{
 "cells": [
  {
   "cell_type": "markdown",
   "id": "97b751f0",
   "metadata": {},
   "source": [
    "# Preprocessing and reading in train - and test dataset"
   ]
  },
  {
   "cell_type": "code",
   "execution_count": 168,
   "id": "6ae409f3",
   "metadata": {},
   "outputs": [],
   "source": [
    "import pandas as pd\n",
    "import numpy as np\n",
    "import matplotlib as mpl\n",
    "import matplotlib.pyplot as plt\n",
    "import math\n",
    "from datetime import timedelta\n",
    "import glob\n",
    "import os\n",
    "from tqdm import tqdm as tqdm\n",
    "import time\n",
    "import seaborn as sns\n",
    "\n",
    "import geopandas\n",
    "import geopy\n",
    "from geopy.geocoders import Nominatim\n",
    "import folium\n",
    "from geopy.extra.rate_limiter import RateLimiter\n",
    "from folium import plugins\n",
    "from folium.plugins import MarkerCluster\n",
    "from folium.plugins import HeatMap\n",
    "\n",
    "%matplotlib inline\n",
    "import statsmodels.api as sm\n",
    "from statsmodels.compat import lzip\n",
    "from statsmodels.formula.api import ols\n",
    "from sklearn.ensemble import GradientBoostingRegressor\n",
    "from sklearn.preprocessing import OneHotEncoder\n",
    "from sklearn.linear_model import LinearRegression\n",
    "from sklearn.metrics import r2_score\n",
    "from sklearn.metrics import mean_squared_error\n",
    "from statsmodels.tsa.statespace.sarimax import SARIMAX\n",
    "from statsmodels.tsa.stattools import adfuller\n",
    "\n",
    "import warnings\n",
    "warnings.filterwarnings('ignore')\n",
    "\n",
    "from numpy import cumsum\n",
    "from datetime import datetime as dt"
   ]
  },
  {
   "cell_type": "code",
   "execution_count": 2,
   "id": "4519d32f",
   "metadata": {},
   "outputs": [],
   "source": [
    "Train = pd.read_csv(r\"C:\\Users\\20201935\\Documents\\Data Challenge 2\\Stijn data\\train_count_street_data.csv\")\n",
    "Train.drop(\"Unnamed: 0\", axis=1, inplace=True)\n",
    "Train = Train[Train['MSOA'] != 'na']\n",
    "Train['Crime type'] = Train['Crime type'].replace(['Violent crime'],'Violence and sexual offences')\n",
    "Train['Crime type'] = Train['Crime type'].replace(['Public disorder and weapons'],'Other crime')\n",
    "# Train['Crime type'] = Train['Crime type'].replace(['Bicycle theft'],'Other theft')\n",
    "# Train['Crime type'] = Train['Crime type'].replace(['Theft from the person'],'Other theft')\n",
    "\n",
    "TestCovid = pd.read_csv(r\"C:\\Users\\20201935\\Documents\\Data Challenge 2\\Stijn data\\test_covid_count_street_data.csv\")\n",
    "TestCovid.drop(\"Unnamed: 0\", axis=1, inplace=True)\n",
    "TestCovid = TestCovid[TestCovid['MSOA'] != 'na']\n",
    "# TestCovid['Crime type'] = TestCovid['Crime type'].replace(['Bicycle theft'],'Other theft')\n",
    "# TestCovid['Crime type'] = TestCovid['Crime type'].replace(['Theft from the person'],'Other theft')\n",
    "\n",
    "TestNoCovid = pd.read_csv(r\"C:\\Users\\20201935\\Documents\\Data Challenge 2\\Stijn data\\test_no_covid_count_street_data.csv\")\n",
    "TestNoCovid.drop(\"Unnamed: 0\", axis=1, inplace=True)\n",
    "TestNoCovid = TestNoCovid[TestNoCovid['MSOA'] != 'na']\n",
    "# TestNoCovid['Crime type'] = TestNoCovid['Crime type'].replace(['Bicycle theft'],'Other theft')\n",
    "# TestNoCovid['Crime type'] = TestNoCovid['Crime type'].replace(['Theft from the person'],'Other theft')"
   ]
  },
  {
   "cell_type": "markdown",
   "id": "fa85ea84",
   "metadata": {},
   "source": [
    "# Building a multivariate linear regression model"
   ]
  },
  {
   "cell_type": "code",
   "execution_count": 3,
   "id": "6a64f491",
   "metadata": {},
   "outputs": [
    {
     "name": "stdout",
     "output_type": "stream",
     "text": [
      "The r2 is:  0.3039075812927974\n",
      "The rmse is:  699.8621772254907\n"
     ]
    }
   ],
   "source": [
    "X_train = Train[['Year', 'Month', 'MSOA', 'Crime type']]\n",
    "X_train = pd.concat([X_train,pd.get_dummies(X_train['Crime type'])],axis=1)\n",
    "X_train.drop(['Crime type'],axis=1, inplace=True)\n",
    "\n",
    "y_train = Train['count']\n",
    "\n",
    "X_test = TestNoCovid[['Year', 'Month', 'MSOA', 'Crime type']]\n",
    "X_test = pd.concat([X_test,pd.get_dummies(X_test['Crime type'])],axis=1)\n",
    "X_test.drop(['Crime type'],axis=1, inplace=True)\n",
    "\n",
    "y_test = TestNoCovid['count']\n",
    "\n",
    "# Creating a new model and fitting it\n",
    "multi_model = LinearRegression()\n",
    "multi_model.fit(X_train, y_train)\n",
    "\n",
    "# Prediction new values\n",
    "predictions = multi_model.predict(X_test)\n",
    "r2 = r2_score(y_test, predictions)\n",
    "rmse = mean_squared_error(y_test, predictions, squared=False)\n",
    "\n",
    "print('The r2 is: ', r2)\n",
    "print('The rmse is: ', rmse)"
   ]
  },
  {
   "cell_type": "code",
   "execution_count": 4,
   "id": "9ba6bd2b",
   "metadata": {},
   "outputs": [
    {
     "data": {
      "text/plain": [
       "array([   3.59444183,    1.1092812 ,   -9.28367009,  893.49607535,\n",
       "       -238.83797482,   33.51500799,   97.97708165, -157.97453406,\n",
       "       -215.41757867,  101.52531331, -332.50728845,  -82.3271799 ,\n",
       "       -223.2497863 ,  -41.97718485, -261.10193332,   14.4990842 ,\n",
       "        412.38089789])"
      ]
     },
     "execution_count": 4,
     "metadata": {},
     "output_type": "execute_result"
    }
   ],
   "source": [
    "multi_model.coef_"
   ]
  },
  {
   "cell_type": "code",
   "execution_count": 5,
   "id": "f72b6540",
   "metadata": {},
   "outputs": [],
   "source": [
    "Train['Date'] = Train['Year'].astype(str) + '-' + Train['Month'].astype(str)\n",
    "TestCovid['Date'] = TestCovid['Year'].astype(str) + '-' + TestCovid['Month'].astype(str)\n",
    "TestNoCovid['Date'] = TestNoCovid['Year'].astype(str) + '-' + TestNoCovid['Month'].astype(str)"
   ]
  },
  {
   "cell_type": "code",
   "execution_count": null,
   "id": "7a448aa1",
   "metadata": {},
   "outputs": [],
   "source": []
  },
  {
   "cell_type": "markdown",
   "id": "80f49dd7",
   "metadata": {},
   "source": [
    "# Arima"
   ]
  },
  {
   "cell_type": "markdown",
   "id": "0ce410df",
   "metadata": {},
   "source": [
    "In ARIMA_OPTIMAL there has to be the 'd' added as hyperparameter looping. Furthermore, there has to get a bugfix for when optimum returns more than 1 row. (MSE instead of AIC?)"
   ]
  },
  {
   "cell_type": "code",
   "execution_count": 146,
   "id": "ea70f076",
   "metadata": {},
   "outputs": [],
   "source": [
    "def ARIMA_DATA(df, MSOA, category):\n",
    "    ###Gets the data of a specific MSOA and category to use in the ARIMA_OPTIMAL function\n",
    "    ###\n",
    "    \n",
    "    df = df[(df['MSOA'] == str(MSOA)) & (df['Crime type'] == category)]\n",
    "    df = df[['count', 'Date']]\n",
    "    df = df.set_index('Date')\n",
    "    \n",
    "    return df\n",
    "\n",
    "def ARIMA_STATIONARY(df):\n",
    "    ###Returns a stationary dataframe, created by ARIMA_DATA\n",
    "    ###\n",
    "    if adfuller(df['count'])[1] > 0.05:\n",
    "        df = df.diff().dropna()\n",
    "    \n",
    "    return df\n",
    "\n",
    "def ARIMA_OPTIMAL(df, MSOA, category):\n",
    "    ### Looks for the best ARMA(p,q) + constant model according to MSOA and crime type\n",
    "    ###\n",
    "    \n",
    "    order_aic_bic = list()\n",
    "    \n",
    "    df = ARIMA_STATIONARY(ARIMA_DATA(df, MSOA, category))\n",
    "\n",
    "    # Loop over AR order\n",
    "    for p in range(1,4):\n",
    "    # Loop over MA order\n",
    "        for q in range(1,4):\n",
    "#             for d in range(3):\n",
    "            try:\n",
    "            # Fit model\n",
    "                model = SARIMAX(df, order=(p,0,q), trend='c')\n",
    "                results = model.fit()\n",
    "                # Add order and scores to list\n",
    "                order_aic_bic.append((p, q, results.aic))\n",
    "            except:\n",
    "                continue\n",
    "            \n",
    "    order_df = pd.DataFrame(order_aic_bic, columns=['p','q','aic'])\n",
    "    optimum = order_df[order_df['aic'] == order_df['aic'].min()]\n",
    "    optimum.reset_index(inplace=True)\n",
    "    return optimum['p'][0], optimum['q'][0], optimum['aic'][0]\n",
    "\n",
    "def ARIMA_PREDICT(df, MSOA, category):\n",
    "    ###Forecasts via ARIMA approach\n",
    "    ###\n",
    "    \n",
    "    df2 = ARIMA_STATIONARY(ARIMA_DATA(df, MSOA, category))\n",
    "    p,q = ARIMA_OPTIMAL(df, MSOA, category)[0:2]\n",
    "    \n",
    "    model = SARIMAX(df2, order=(p,0,q), trend='c')\n",
    "    results = model.fit()\n",
    "    forecast = results.get_prediction(start=-25)\n",
    "    mean_forecast = cumsum(forecast.predicted_mean) + df2.iloc[-1,0]\n",
    "    confidence_intervals = cumsum(forecast.conf_int())\n",
    "    return mean_forecast, confidence_intervals\n",
    "\n",
    "def ARIMA_SUMMARY(df, MSOA, category):\n",
    "    \n",
    "    df2 = ARIMA_STATIONARY(ARIMA_DATA(df, MSOA, category))\n",
    "    p,q = ARIMA_OPTIMAL(df, MSOA, category)[0:2]\n",
    "    \n",
    "    model = SARIMAX(df2, order=(p,0,q), trend='c')\n",
    "    results = model.fit()\n",
    "    \n",
    "    return results.summary()"
   ]
  },
  {
   "cell_type": "code",
   "execution_count": 139,
   "id": "0926139d",
   "metadata": {
    "collapsed": true
   },
   "outputs": [
    {
     "name": "stdout",
     "output_type": "stream",
     "text": [
      "                               SARIMAX Results                                \n",
      "==============================================================================\n",
      "Dep. Variable:                  count   No. Observations:                   83\n",
      "Model:               SARIMAX(2, 0, 3)   Log Likelihood                -244.495\n",
      "Date:                Tue, 29 Mar 2022   AIC                            502.991\n",
      "Time:                        15:28:39   BIC                            519.922\n",
      "Sample:                    02-01-2012   HQIC                           509.793\n",
      "                         - 12-01-2018                                         \n",
      "Covariance Type:                  opg                                         \n",
      "==============================================================================\n",
      "                 coef    std err          z      P>|z|      [0.025      0.975]\n",
      "------------------------------------------------------------------------------\n",
      "intercept      0.1219      0.539      0.226      0.821      -0.934       1.178\n",
      "ar.L1         -1.4240      0.086    -16.646      0.000      -1.592      -1.256\n",
      "ar.L2         -0.8799      0.069    -12.801      0.000      -1.015      -0.745\n",
      "ma.L1          0.8951      0.566      1.582      0.114      -0.214       2.004\n",
      "ma.L2         -0.2474      0.278     -0.889      0.374      -0.793       0.298\n",
      "ma.L3         -0.7509      0.546     -1.375      0.169      -1.822       0.320\n",
      "sigma2        19.8683     12.733      1.560      0.119      -5.088      44.824\n",
      "===================================================================================\n",
      "Ljung-Box (L1) (Q):                   0.12   Jarque-Bera (JB):                 9.77\n",
      "Prob(Q):                              0.73   Prob(JB):                         0.01\n",
      "Heteroskedasticity (H):               1.19   Skew:                             0.71\n",
      "Prob(H) (two-sided):                  0.65   Kurtosis:                         3.89\n",
      "===================================================================================\n",
      "\n",
      "Warnings:\n",
      "[1] Covariance matrix calculated using the outer product of gradients (complex-step).\n"
     ]
    }
   ],
   "source": [
    "print(ARIMA_SUMMARY(Train, '099', 'Burglary'))"
   ]
  },
  {
   "cell_type": "code",
   "execution_count": 165,
   "id": "9a2240a9",
   "metadata": {},
   "outputs": [],
   "source": [
    "data = ARIMA_DATA(Train, '099', 'Burglary')\n",
    "mean_forecasts = ARIMA_PREDICT(Train, '099', 'Burglary')[0].to_frame()\n",
    "confidence_intervals = ARIMA_PREDICT(Train, '099', 'Burglary')[1]\n",
    "lower_limits = confidence_intervals['lower count']\n",
    "upper_limits = confidence_intervals['upper count']"
   ]
  },
  {
   "cell_type": "code",
   "execution_count": 182,
   "id": "31888faf",
   "metadata": {},
   "outputs": [
    {
     "data": {
      "text/html": [
       "<div>\n",
       "<style scoped>\n",
       "    .dataframe tbody tr th:only-of-type {\n",
       "        vertical-align: middle;\n",
       "    }\n",
       "\n",
       "    .dataframe tbody tr th {\n",
       "        vertical-align: top;\n",
       "    }\n",
       "\n",
       "    .dataframe thead th {\n",
       "        text-align: right;\n",
       "    }\n",
       "</style>\n",
       "<table border=\"1\" class=\"dataframe\">\n",
       "  <thead>\n",
       "    <tr style=\"text-align: right;\">\n",
       "      <th></th>\n",
       "      <th>predicted_mean</th>\n",
       "    </tr>\n",
       "    <tr>\n",
       "      <th>Date</th>\n",
       "      <th></th>\n",
       "    </tr>\n",
       "  </thead>\n",
       "  <tbody>\n",
       "    <tr>\n",
       "      <th>2016-12</th>\n",
       "      <td>-9.525054</td>\n",
       "    </tr>\n",
       "    <tr>\n",
       "      <th>2017-01</th>\n",
       "      <td>-7.815584</td>\n",
       "    </tr>\n",
       "    <tr>\n",
       "      <th>2017-02</th>\n",
       "      <td>-7.694856</td>\n",
       "    </tr>\n",
       "    <tr>\n",
       "      <th>2017-03</th>\n",
       "      <td>-11.033892</td>\n",
       "    </tr>\n",
       "    <tr>\n",
       "      <th>2017-04</th>\n",
       "      <td>-6.159174</td>\n",
       "    </tr>\n",
       "    <tr>\n",
       "      <th>2017-05</th>\n",
       "      <td>-11.425991</td>\n",
       "    </tr>\n",
       "    <tr>\n",
       "      <th>2017-06</th>\n",
       "      <td>-11.237037</td>\n",
       "    </tr>\n",
       "    <tr>\n",
       "      <th>2017-07</th>\n",
       "      <td>-5.211877</td>\n",
       "    </tr>\n",
       "    <tr>\n",
       "      <th>2017-08</th>\n",
       "      <td>-6.263442</td>\n",
       "    </tr>\n",
       "    <tr>\n",
       "      <th>2017-09</th>\n",
       "      <td>-2.846965</td>\n",
       "    </tr>\n",
       "    <tr>\n",
       "      <th>2017-10</th>\n",
       "      <td>-4.955743</td>\n",
       "    </tr>\n",
       "    <tr>\n",
       "      <th>2017-11</th>\n",
       "      <td>-11.086525</td>\n",
       "    </tr>\n",
       "    <tr>\n",
       "      <th>2017-12</th>\n",
       "      <td>-6.903708</td>\n",
       "    </tr>\n",
       "    <tr>\n",
       "      <th>2018-01</th>\n",
       "      <td>-14.302218</td>\n",
       "    </tr>\n",
       "    <tr>\n",
       "      <th>2018-02</th>\n",
       "      <td>-24.490039</td>\n",
       "    </tr>\n",
       "    <tr>\n",
       "      <th>2018-03</th>\n",
       "      <td>-32.445839</td>\n",
       "    </tr>\n",
       "    <tr>\n",
       "      <th>2018-04</th>\n",
       "      <td>-36.510687</td>\n",
       "    </tr>\n",
       "    <tr>\n",
       "      <th>2018-05</th>\n",
       "      <td>-26.209363</td>\n",
       "    </tr>\n",
       "    <tr>\n",
       "      <th>2018-06</th>\n",
       "      <td>-30.032278</td>\n",
       "    </tr>\n",
       "    <tr>\n",
       "      <th>2018-07</th>\n",
       "      <td>-32.220250</td>\n",
       "    </tr>\n",
       "    <tr>\n",
       "      <th>2018-08</th>\n",
       "      <td>-22.806257</td>\n",
       "    </tr>\n",
       "    <tr>\n",
       "      <th>2018-09</th>\n",
       "      <td>-26.584905</td>\n",
       "    </tr>\n",
       "    <tr>\n",
       "      <th>2018-10</th>\n",
       "      <td>-24.980313</td>\n",
       "    </tr>\n",
       "    <tr>\n",
       "      <th>2018-11</th>\n",
       "      <td>-24.771124</td>\n",
       "    </tr>\n",
       "    <tr>\n",
       "      <th>2018-12</th>\n",
       "      <td>-30.126278</td>\n",
       "    </tr>\n",
       "  </tbody>\n",
       "</table>\n",
       "</div>"
      ],
      "text/plain": [
       "         predicted_mean\n",
       "Date                   \n",
       "2016-12       -9.525054\n",
       "2017-01       -7.815584\n",
       "2017-02       -7.694856\n",
       "2017-03      -11.033892\n",
       "2017-04       -6.159174\n",
       "2017-05      -11.425991\n",
       "2017-06      -11.237037\n",
       "2017-07       -5.211877\n",
       "2017-08       -6.263442\n",
       "2017-09       -2.846965\n",
       "2017-10       -4.955743\n",
       "2017-11      -11.086525\n",
       "2017-12       -6.903708\n",
       "2018-01      -14.302218\n",
       "2018-02      -24.490039\n",
       "2018-03      -32.445839\n",
       "2018-04      -36.510687\n",
       "2018-05      -26.209363\n",
       "2018-06      -30.032278\n",
       "2018-07      -32.220250\n",
       "2018-08      -22.806257\n",
       "2018-09      -26.584905\n",
       "2018-10      -24.980313\n",
       "2018-11      -24.771124\n",
       "2018-12      -30.126278"
      ]
     },
     "execution_count": 182,
     "metadata": {},
     "output_type": "execute_result"
    }
   ],
   "source": [
    "test = mean_forecasts.reset_index()\n",
    "test['Date'] = test['index'].dt.strftime('%Y-%m')\n",
    "test.drop(columns=['index'], inplace=True, axis=1)\n",
    "test.set_index('Date', inplace=True)\n",
    "test"
   ]
  },
  {
   "cell_type": "code",
   "execution_count": 177,
   "id": "9913a5a8",
   "metadata": {},
   "outputs": [
    {
     "data": {
      "text/html": [
       "<div>\n",
       "<style scoped>\n",
       "    .dataframe tbody tr th:only-of-type {\n",
       "        vertical-align: middle;\n",
       "    }\n",
       "\n",
       "    .dataframe tbody tr th {\n",
       "        vertical-align: top;\n",
       "    }\n",
       "\n",
       "    .dataframe thead th {\n",
       "        text-align: right;\n",
       "    }\n",
       "</style>\n",
       "<table border=\"1\" class=\"dataframe\">\n",
       "  <thead>\n",
       "    <tr style=\"text-align: right;\">\n",
       "      <th></th>\n",
       "      <th>count</th>\n",
       "    </tr>\n",
       "    <tr>\n",
       "      <th>Date</th>\n",
       "      <th></th>\n",
       "    </tr>\n",
       "  </thead>\n",
       "  <tbody>\n",
       "    <tr>\n",
       "      <th>2012-1</th>\n",
       "      <td>19</td>\n",
       "    </tr>\n",
       "    <tr>\n",
       "      <th>2012-2</th>\n",
       "      <td>12</td>\n",
       "    </tr>\n",
       "    <tr>\n",
       "      <th>2012-3</th>\n",
       "      <td>15</td>\n",
       "    </tr>\n",
       "    <tr>\n",
       "      <th>2012-4</th>\n",
       "      <td>25</td>\n",
       "    </tr>\n",
       "    <tr>\n",
       "      <th>2012-5</th>\n",
       "      <td>8</td>\n",
       "    </tr>\n",
       "    <tr>\n",
       "      <th>...</th>\n",
       "      <td>...</td>\n",
       "    </tr>\n",
       "    <tr>\n",
       "      <th>2018-8</th>\n",
       "      <td>20</td>\n",
       "    </tr>\n",
       "    <tr>\n",
       "      <th>2018-9</th>\n",
       "      <td>17</td>\n",
       "    </tr>\n",
       "    <tr>\n",
       "      <th>2018-10</th>\n",
       "      <td>22</td>\n",
       "    </tr>\n",
       "    <tr>\n",
       "      <th>2018-11</th>\n",
       "      <td>21</td>\n",
       "    </tr>\n",
       "    <tr>\n",
       "      <th>2018-12</th>\n",
       "      <td>13</td>\n",
       "    </tr>\n",
       "  </tbody>\n",
       "</table>\n",
       "<p>84 rows × 1 columns</p>\n",
       "</div>"
      ],
      "text/plain": [
       "         count\n",
       "Date          \n",
       "2012-1      19\n",
       "2012-2      12\n",
       "2012-3      15\n",
       "2012-4      25\n",
       "2012-5       8\n",
       "...        ...\n",
       "2018-8      20\n",
       "2018-9      17\n",
       "2018-10     22\n",
       "2018-11     21\n",
       "2018-12     13\n",
       "\n",
       "[84 rows x 1 columns]"
      ]
     },
     "execution_count": 177,
     "metadata": {},
     "output_type": "execute_result"
    }
   ],
   "source": [
    "data"
   ]
  },
  {
   "cell_type": "code",
   "execution_count": 183,
   "id": "ca36fcf9",
   "metadata": {},
   "outputs": [
    {
     "data": {
      "text/plain": [
       "<AxesSubplot:xlabel='Date'>"
      ]
     },
     "execution_count": 183,
     "metadata": {},
     "output_type": "execute_result"
    },
    {
     "data": {
      "image/png": "[encoded data removed]",
      "text/plain": [
       "<Figure size 504x288 with 1 Axes>"
      ]
     },
     "metadata": {
      "needs_background": "light"
     },
     "output_type": "display_data"
    }
   ],
   "source": [
    "fig = data.plot(figsize=(7,4))\n",
    "fig2 = test.plot(ax=fig)\n",
    "# fig2.legend(['count', 'forecasted']);\n",
    "fig"
   ]
  },
  {
   "cell_type": "code",
   "execution_count": 186,
   "id": "9e6d5970",
   "metadata": {},
   "outputs": [
    {
     "data": {
      "text/plain": [
       "<AxesSubplot:xlabel='Date'>"
      ]
     },
     "execution_count": 186,
     "metadata": {},
     "output_type": "execute_result"
    },
    {
     "data": {
      "image/png": "[encoded data removed]",
      "text/plain": [
       "<Figure size 504x288 with 1 Axes>"
      ]
     },
     "metadata": {
      "needs_background": "light"
     },
     "output_type": "display_data"
    }
   ],
   "source": [
    "plot_data = pd.concat([data, test], axis=1)\n",
    "fig_plot = plot_data['count'].plot(figsize=(7,4))\n",
    "fig_plot_2 = plot_data['predicted_mean'].plot(ax=fig_plot)\n",
    "# fig2.legend(['count', 'forecasted']);\n",
    "fig_plot_2"
   ]
  },
  {
   "cell_type": "code",
   "execution_count": 46,
   "id": "22cb30db",
   "metadata": {},
   "outputs": [
    {
     "data": {
      "text/plain": [
       "array(['Anti-social behaviour', 'Burglary', 'Criminal damage and arson',\n",
       "       'Drugs', 'Other crime', 'Other theft', 'Robbery', 'Shoplifting',\n",
       "       'Vehicle crime', 'Violence and sexual offences', 'Bicycle theft',\n",
       "       'Possession of weapons', 'Public order', 'Theft from the person'],\n",
       "      dtype=object)"
      ]
     },
     "execution_count": 46,
     "metadata": {},
     "output_type": "execute_result"
    }
   ],
   "source": [
    "Train['Crime type'].unique()"
   ]
  }
 ],
 "metadata": {
  "kernelspec": {
   "display_name": "Python 3 (ipykernel)",
   "language": "python",
   "name": "python3"
  },
  "language_info": {
   "codemirror_mode": {
    "name": "ipython",
    "version": 3
   },
   "file_extension": ".py",
   "mimetype": "text/x-python",
   "name": "python",
   "nbconvert_exporter": "python",
   "pygments_lexer": "ipython3",
   "version": "3.10.0"
  }
 },
 "nbformat": 4,
 "nbformat_minor": 5
}
