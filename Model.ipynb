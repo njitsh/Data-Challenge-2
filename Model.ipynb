{
 "cells": [
  {
   "cell_type": "markdown",
   "metadata": {},
   "source": [
    "# Preprocessing and reading in train - and test dataset"
   ]
  },
  {
   "cell_type": "code",
   "execution_count": 52,
   "metadata": {},
   "outputs": [],
   "source": [
    "import pandas as pd\n",
    "import numpy as np\n",
    "import matplotlib as mpl\n",
    "import matplotlib.pyplot as plt\n",
    "import math\n",
    "from datetime import timedelta\n",
    "import glob\n",
    "import os\n",
    "from tqdm import tqdm as tqdm\n",
    "import time\n",
    "import seaborn as sns\n",
    "\n",
    "# import geopandas\n",
    "# import geopy\n",
    "# from geopy.geocoders import Nominatim\n",
    "# import folium\n",
    "# from geopy.extra.rate_limiter import RateLimiter\n",
    "# from folium import plugins\n",
    "# from folium.plugins import MarkerCluster\n",
    "# from folium.plugins import HeatMap\n",
    "\n",
    "%matplotlib inline\n",
    "import statsmodels.api as sm\n",
    "from statsmodels.compat import lzip\n",
    "from statsmodels.formula.api import ols\n",
    "from sklearn.ensemble import GradientBoostingRegressor\n",
    "from sklearn.preprocessing import OneHotEncoder\n",
    "from sklearn.linear_model import LinearRegression\n",
    "from sklearn.metrics import r2_score\n",
    "from sklearn.metrics import mean_squared_error\n",
    "from statsmodels.tsa.statespace.sarimax import SARIMAX\n",
    "from statsmodels.tsa.stattools import adfuller\n",
    "\n",
    "import warnings\n",
    "warnings.filterwarnings('ignore')\n",
    "\n",
    "from numpy import cumsum\n",
    "from datetime import datetime as dt"
   ]
  },
  {
   "cell_type": "code",
   "execution_count": null,
   "metadata": {},
   "outputs": [],
   "source": [
    "data_path = input(\"Enter the path to the data folder: \")"
   ]
  },
  {
   "cell_type": "code",
   "execution_count": 114,
   "metadata": {},
   "outputs": [],
   "source": [
    "Train = pd.read_csv(str(data_path) + \"\\\\train_count_street_data.csv\")\n",
    "Train.drop(\"Unnamed: 0\", axis=1, inplace=True)\n",
    "Train = Train[Train['MSOA'] != 'na']\n",
    "Train['Crime type'] = Train['Crime type'].replace(['Violent crime'],'Violence and sexual offences')\n",
    "Train['Crime type'] = Train['Crime type'].replace(['Public disorder and weapons'],'Other crime')\n",
    "# Train['Crime type'] = Train['Crime type'].replace(['Bicycle theft'],'Other theft')\n",
    "# Train['Crime type'] = Train['Crime type'].replace(['Theft from the person'],'Other theft')\n",
    "\n",
    "TestCovid = pd.read_csv(data_path + \"\\\\test_covid_count_street_data.csv\")\n",
    "TestCovid.drop(\"Unnamed: 0\", axis=1, inplace=True)\n",
    "TestCovid = TestCovid[TestCovid['MSOA'] != 'na']\n",
    "# TestCovid['Crime type'] = TestCovid['Crime type'].replace(['Bicycle theft'],'Other theft')\n",
    "# TestCovid['Crime type'] = TestCovid['Crime type'].replace(['Theft from the person'],'Other theft')\n",
    "\n",
    "TestNoCovid = pd.read_csv(data_path + \"\\\\test_no_covid_count_street_data.csv\")\n",
    "TestNoCovid.drop(\"Unnamed: 0\", axis=1, inplace=True)\n",
    "TestNoCovid = TestNoCovid[TestNoCovid['MSOA'] != 'na']\n",
    "# TestNoCovid['Crime type'] = TestNoCovid['Crime type'].replace(['Bicycle theft'],'Other theft')\n",
    "# TestNoCovid['Crime type'] = TestNoCovid['Crime type'].replace(['Theft from the person'],'Other theft')"
   ]
  },
  {
   "cell_type": "markdown",
   "metadata": {},
   "source": [
    "# Building a multivariate linear regression model"
   ]
  },
  {
   "cell_type": "code",
   "execution_count": 3,
   "metadata": {},
   "outputs": [
    {
     "name": "stdout",
     "output_type": "stream",
     "text": [
      "The r2 is:  0.3039075812927974\n",
      "The rmse is:  699.8621772254907\n"
     ]
    }
   ],
   "source": [
    "X_train = Train[['Year', 'Month', 'MSOA', 'Crime type']]\n",
    "X_train = pd.concat([X_train,pd.get_dummies(X_train['Crime type'])],axis=1)\n",
    "X_train.drop(['Crime type'],axis=1, inplace=True)\n",
    "\n",
    "y_train = Train['count']\n",
    "\n",
    "X_test = TestNoCovid[['Year', 'Month', 'MSOA', 'Crime type']]\n",
    "X_test = pd.concat([X_test,pd.get_dummies(X_test['Crime type'])],axis=1)\n",
    "X_test.drop(['Crime type'],axis=1, inplace=True)\n",
    "\n",
    "y_test = TestNoCovid['count']\n",
    "\n",
    "# Creating a new model and fitting it\n",
    "multi_model = LinearRegression()\n",
    "multi_model.fit(X_train, y_train)\n",
    "\n",
    "# Prediction new values\n",
    "predictions = multi_model.predict(X_test)\n",
    "r2 = r2_score(y_test, predictions)\n",
    "rmse = mean_squared_error(y_test, predictions, squared=False)\n",
    "\n",
    "print('The r2 is: ', r2)\n",
    "print('The rmse is: ', rmse)"
   ]
  },
  {
   "cell_type": "code",
   "execution_count": 4,
   "metadata": {},
   "outputs": [
    {
     "data": {
      "text/plain": [
       "array([   3.59444183,    1.1092812 ,   -9.28367009,  893.49607535,\n",
       "       -238.83797482,   33.51500799,   97.97708165, -157.97453406,\n",
       "       -215.41757867,  101.52531331, -332.50728845,  -82.3271799 ,\n",
       "       -223.2497863 ,  -41.97718485, -261.10193332,   14.4990842 ,\n",
       "        412.38089789])"
      ]
     },
     "execution_count": 4,
     "metadata": {},
     "output_type": "execute_result"
    }
   ],
   "source": [
    "multi_model.coef_"
   ]
  },
  {
   "cell_type": "markdown",
   "metadata": {},
   "source": [
    "Change column name"
   ]
  },
  {
   "cell_type": "code",
   "execution_count": 115,
   "metadata": {},
   "outputs": [],
   "source": [
    "# Train['Date'] = Train['Year'].astype(str) + '-' + Train['Month'].astype(str)\n",
    "# TestCovid['Date'] = TestCovid['Year'].astype(str) + '-' + TestCovid['Month'].astype(str)\n",
    "# TestNoCovid['Date'] = TestNoCovid['Year'].astype(str) + '-' + TestNoCovid['Month'].astype(str)\n",
    "Train = Train.rename(columns={\"Month\":\"Date\"})\n",
    "TestCovid = TestCovid.rename(columns={\"Month\":\"Date\"})\n",
    "TestNoCovid = TestNoCovid.rename(columns={\"Month\":\"Date\"})"
   ]
  },
  {
   "cell_type": "code",
   "execution_count": 116,
   "metadata": {},
   "outputs": [
    {
     "data": {
      "text/html": [
       "<div>\n",
       "<style scoped>\n",
       "    .dataframe tbody tr th:only-of-type {\n",
       "        vertical-align: middle;\n",
       "    }\n",
       "\n",
       "    .dataframe tbody tr th {\n",
       "        vertical-align: top;\n",
       "    }\n",
       "\n",
       "    .dataframe thead th {\n",
       "        text-align: right;\n",
       "    }\n",
       "</style>\n",
       "<table border=\"1\" class=\"dataframe\">\n",
       "  <thead>\n",
       "    <tr style=\"text-align: right;\">\n",
       "      <th></th>\n",
       "      <th>Date</th>\n",
       "      <th>MSOA</th>\n",
       "      <th>Crime type</th>\n",
       "      <th>count</th>\n",
       "    </tr>\n",
       "  </thead>\n",
       "  <tbody>\n",
       "    <tr>\n",
       "      <th>0</th>\n",
       "      <td>2012-01</td>\n",
       "      <td>1</td>\n",
       "      <td>Anti-social behaviour</td>\n",
       "      <td>6290</td>\n",
       "    </tr>\n",
       "    <tr>\n",
       "      <th>1</th>\n",
       "      <td>2012-01</td>\n",
       "      <td>1</td>\n",
       "      <td>Burglary</td>\n",
       "      <td>1715</td>\n",
       "    </tr>\n",
       "    <tr>\n",
       "      <th>2</th>\n",
       "      <td>2012-01</td>\n",
       "      <td>1</td>\n",
       "      <td>Criminal damage and arson</td>\n",
       "      <td>1756</td>\n",
       "    </tr>\n",
       "    <tr>\n",
       "      <th>3</th>\n",
       "      <td>2012-01</td>\n",
       "      <td>1</td>\n",
       "      <td>Drugs</td>\n",
       "      <td>607</td>\n",
       "    </tr>\n",
       "    <tr>\n",
       "      <th>4</th>\n",
       "      <td>2012-01</td>\n",
       "      <td>1</td>\n",
       "      <td>Other crime</td>\n",
       "      <td>502</td>\n",
       "    </tr>\n",
       "    <tr>\n",
       "      <th>...</th>\n",
       "      <td>...</td>\n",
       "      <td>...</td>\n",
       "      <td>...</td>\n",
       "      <td>...</td>\n",
       "    </tr>\n",
       "    <tr>\n",
       "      <th>143257</th>\n",
       "      <td>2018-12</td>\n",
       "      <td>140</td>\n",
       "      <td>Robbery</td>\n",
       "      <td>4</td>\n",
       "    </tr>\n",
       "    <tr>\n",
       "      <th>143258</th>\n",
       "      <td>2018-12</td>\n",
       "      <td>140</td>\n",
       "      <td>Shoplifting</td>\n",
       "      <td>1</td>\n",
       "    </tr>\n",
       "    <tr>\n",
       "      <th>143259</th>\n",
       "      <td>2018-12</td>\n",
       "      <td>140</td>\n",
       "      <td>Theft from the person</td>\n",
       "      <td>2</td>\n",
       "    </tr>\n",
       "    <tr>\n",
       "      <th>143260</th>\n",
       "      <td>2018-12</td>\n",
       "      <td>140</td>\n",
       "      <td>Vehicle crime</td>\n",
       "      <td>12</td>\n",
       "    </tr>\n",
       "    <tr>\n",
       "      <th>143261</th>\n",
       "      <td>2018-12</td>\n",
       "      <td>140</td>\n",
       "      <td>Violence and sexual offences</td>\n",
       "      <td>51</td>\n",
       "    </tr>\n",
       "  </tbody>\n",
       "</table>\n",
       "<p>143262 rows × 4 columns</p>\n",
       "</div>"
      ],
      "text/plain": [
       "           Date  MSOA                    Crime type  count\n",
       "0       2012-01     1         Anti-social behaviour   6290\n",
       "1       2012-01     1                      Burglary   1715\n",
       "2       2012-01     1     Criminal damage and arson   1756\n",
       "3       2012-01     1                         Drugs    607\n",
       "4       2012-01     1                   Other crime    502\n",
       "...         ...   ...                           ...    ...\n",
       "143257  2018-12   140                       Robbery      4\n",
       "143258  2018-12   140                   Shoplifting      1\n",
       "143259  2018-12   140         Theft from the person      2\n",
       "143260  2018-12   140                 Vehicle crime     12\n",
       "143261  2018-12   140  Violence and sexual offences     51\n",
       "\n",
       "[143262 rows x 4 columns]"
      ]
     },
     "execution_count": 116,
     "metadata": {},
     "output_type": "execute_result"
    }
   ],
   "source": [
    "Train"
   ]
  },
  {
   "cell_type": "markdown",
   "metadata": {},
   "source": [
    "# Arima"
   ]
  },
  {
   "cell_type": "markdown",
   "metadata": {},
   "source": [
    "In ARIMA_OPTIMAL there has to be the 'd' added as hyperparameter looping. Furthermore, there has to get a bugfix for when optimum returns more than 1 row. (MSE instead of AIC?)"
   ]
  },
  {
   "cell_type": "code",
   "execution_count": 86,
   "metadata": {},
   "outputs": [],
   "source": [
    "def ARIMA_DATA(df, MSOA, category):\n",
    "    ###Gets the data of a specific MSOA and category to use in the ARIMA_OPTIMAL function\n",
    "    ###\n",
    "    \n",
    "    df = df[(df['MSOA'] == int(MSOA)) & (df['Crime type'] == category)]\n",
    "    df = df[['Date', 'count']]\n",
    "    df = df.set_index('Date')\n",
    "    \n",
    "    return df\n",
    "\n",
    "def ARIMA_STATIONARY(df):\n",
    "    ###Returns a stationary dataframe, created by ARIMA_DATA\n",
    "    ###\n",
    "    if adfuller(df['count'])[1] > 0.05:\n",
    "        df = df.diff().dropna()\n",
    "    \n",
    "    return df\n",
    "\n",
    "def ARIMA_OPTIMAL(df, MSOA, category):\n",
    "    ### Looks for the best ARMA(p,q) + constant model according to MSOA and crime type\n",
    "    ###\n",
    "    \n",
    "    order_aic_bic = list()\n",
    "    \n",
    "    df = ARIMA_STATIONARY(ARIMA_DATA(df, MSOA, category))\n",
    "\n",
    "    # Loop over AR order\n",
    "    for p in range(1,4):\n",
    "    # Loop over MA order\n",
    "        for q in range(1,4):\n",
    "#             for d in range(3):\n",
    "            try:\n",
    "            # Fit model\n",
    "                model = SARIMAX(df, order=(p,0,q), trend='c')\n",
    "                results = model.fit()\n",
    "                # Add order and scores to list\n",
    "                order_aic_bic.append((p, q, results.aic))\n",
    "            except:\n",
    "                continue\n",
    "            \n",
    "    order_df = pd.DataFrame(order_aic_bic, columns=['p','q','aic'])\n",
    "    optimum = order_df[order_df['aic'] == order_df['aic'].min()]\n",
    "    optimum.reset_index(inplace=True)\n",
    "    return optimum['p'][0], optimum['q'][0], optimum['aic'][0]\n",
    "\n",
    "def ARIMA_PREDICT(df, MSOA, category):\n",
    "    ###Forecasts via ARIMA approach\n",
    "    ###\n",
    "    \n",
    "    df2 = ARIMA_STATIONARY(ARIMA_DATA(df, MSOA, category))\n",
    "    p,q = ARIMA_OPTIMAL(df, MSOA, category)[0:2]\n",
    "    \n",
    "    model = SARIMAX(df2, order=(p,0,q), trend='c')\n",
    "    results = model.fit()\n",
    "    forecast = results.get_prediction(start=-25)\n",
    "    mean_forecast = cumsum(forecast.predicted_mean) + df2.iloc[-1,0]\n",
    "    confidence_intervals = cumsum(forecast.conf_int())\n",
    "    return mean_forecast, confidence_intervals\n",
    "\n",
    "def ARIMA_SUMMARY(df, MSOA, category):\n",
    "    \n",
    "    df2 = ARIMA_STATIONARY(ARIMA_DATA(df, MSOA, category))\n",
    "    p,q = ARIMA_OPTIMAL(df, MSOA, category)[0:2]\n",
    "    \n",
    "    model = SARIMAX(df2, order=(p,0,q), trend='c')\n",
    "    results = model.fit()\n",
    "    \n",
    "    return results.summary()"
   ]
  },
  {
   "cell_type": "code",
   "execution_count": 87,
   "metadata": {},
   "outputs": [
    {
     "name": "stdout",
     "output_type": "stream",
     "text": [
      "                               SARIMAX Results                                \n",
      "==============================================================================\n",
      "Dep. Variable:                  count   No. Observations:                   83\n",
      "Model:               SARIMAX(2, 0, 3)   Log Likelihood                -244.496\n",
      "Date:                Tue, 29 Mar 2022   AIC                            502.993\n",
      "Time:                        23:35:30   BIC                            519.925\n",
      "Sample:                    02-01-2012   HQIC                           509.795\n",
      "                         - 12-01-2018                                         \n",
      "Covariance Type:                  opg                                         \n",
      "==============================================================================\n",
      "                 coef    std err          z      P>|z|      [0.025      0.975]\n",
      "------------------------------------------------------------------------------\n",
      "intercept      0.1265      0.536      0.236      0.813      -0.924       1.176\n",
      "ar.L1         -1.4231      0.085    -16.657      0.000      -1.591      -1.256\n",
      "ar.L2         -0.8801      0.069    -12.835      0.000      -1.015      -0.746\n",
      "ma.L1          0.8927      0.452      1.977      0.048       0.008       1.778\n",
      "ma.L2         -0.2503      0.231     -1.083      0.279      -0.703       0.203\n",
      "ma.L3         -0.7517      0.443     -1.695      0.090      -1.621       0.117\n",
      "sigma2        19.8963     10.109      1.968      0.049       0.083      39.709\n",
      "===================================================================================\n",
      "Ljung-Box (Q):                       18.69   Jarque-Bera (JB):                 9.95\n",
      "Prob(Q):                              1.00   Prob(JB):                         0.01\n",
      "Heteroskedasticity (H):               1.19   Skew:                             0.72\n",
      "Prob(H) (two-sided):                  0.65   Kurtosis:                         3.91\n",
      "===================================================================================\n",
      "\n",
      "Warnings:\n",
      "[1] Covariance matrix calculated using the outer product of gradients (complex-step).\n"
     ]
    }
   ],
   "source": [
    "print(ARIMA_SUMMARY(Train, '099', 'Burglary'))"
   ]
  },
  {
   "cell_type": "code",
   "execution_count": 88,
   "metadata": {},
   "outputs": [],
   "source": [
    "data = ARIMA_DATA(Train, '099', 'Burglary')\n",
    "mean_forecasts = ARIMA_PREDICT(Train, '099', 'Burglary')[0].to_frame()\n",
    "confidence_intervals = ARIMA_PREDICT(Train, '099', 'Burglary')[1]\n",
    "lower_limits = confidence_intervals['lower count']\n",
    "upper_limits = confidence_intervals['upper count']"
   ]
  },
  {
   "cell_type": "code",
   "execution_count": 89,
   "metadata": {},
   "outputs": [
    {
     "data": {
      "text/html": [
       "<div>\n",
       "<style scoped>\n",
       "    .dataframe tbody tr th:only-of-type {\n",
       "        vertical-align: middle;\n",
       "    }\n",
       "\n",
       "    .dataframe tbody tr th {\n",
       "        vertical-align: top;\n",
       "    }\n",
       "\n",
       "    .dataframe thead th {\n",
       "        text-align: right;\n",
       "    }\n",
       "</style>\n",
       "<table border=\"1\" class=\"dataframe\">\n",
       "  <thead>\n",
       "    <tr style=\"text-align: right;\">\n",
       "      <th></th>\n",
       "      <th>0</th>\n",
       "    </tr>\n",
       "    <tr>\n",
       "      <th>Date</th>\n",
       "      <th></th>\n",
       "    </tr>\n",
       "  </thead>\n",
       "  <tbody>\n",
       "    <tr>\n",
       "      <th>2016-12</th>\n",
       "      <td>-9.543547</td>\n",
       "    </tr>\n",
       "    <tr>\n",
       "      <th>2017-01</th>\n",
       "      <td>-7.818792</td>\n",
       "    </tr>\n",
       "    <tr>\n",
       "      <th>2017-02</th>\n",
       "      <td>-7.704026</td>\n",
       "    </tr>\n",
       "    <tr>\n",
       "      <th>2017-03</th>\n",
       "      <td>-11.047405</td>\n",
       "    </tr>\n",
       "    <tr>\n",
       "      <th>2017-04</th>\n",
       "      <td>-6.157696</td>\n",
       "    </tr>\n",
       "    <tr>\n",
       "      <th>2017-05</th>\n",
       "      <td>-11.433835</td>\n",
       "    </tr>\n",
       "    <tr>\n",
       "      <th>2017-06</th>\n",
       "      <td>-11.248057</td>\n",
       "    </tr>\n",
       "    <tr>\n",
       "      <th>2017-07</th>\n",
       "      <td>-5.200048</td>\n",
       "    </tr>\n",
       "    <tr>\n",
       "      <th>2017-08</th>\n",
       "      <td>-6.254903</td>\n",
       "    </tr>\n",
       "    <tr>\n",
       "      <th>2017-09</th>\n",
       "      <td>-2.812811</td>\n",
       "    </tr>\n",
       "    <tr>\n",
       "      <th>2017-10</th>\n",
       "      <td>-4.915089</td>\n",
       "    </tr>\n",
       "    <tr>\n",
       "      <th>2017-11</th>\n",
       "      <td>-11.060776</td>\n",
       "    </tr>\n",
       "    <tr>\n",
       "      <th>2017-12</th>\n",
       "      <td>-6.857752</td>\n",
       "    </tr>\n",
       "    <tr>\n",
       "      <th>2018-01</th>\n",
       "      <td>-14.276948</td>\n",
       "    </tr>\n",
       "    <tr>\n",
       "      <th>2018-02</th>\n",
       "      <td>-24.489993</td>\n",
       "    </tr>\n",
       "    <tr>\n",
       "      <th>2018-03</th>\n",
       "      <td>-32.479795</td>\n",
       "    </tr>\n",
       "    <tr>\n",
       "      <th>2018-04</th>\n",
       "      <td>-36.594344</td>\n",
       "    </tr>\n",
       "    <tr>\n",
       "      <th>2018-05</th>\n",
       "      <td>-26.277917</td>\n",
       "    </tr>\n",
       "    <tr>\n",
       "      <th>2018-06</th>\n",
       "      <td>-30.118791</td>\n",
       "    </tr>\n",
       "    <tr>\n",
       "      <th>2018-07</th>\n",
       "      <td>-32.325901</td>\n",
       "    </tr>\n",
       "    <tr>\n",
       "      <th>2018-08</th>\n",
       "      <td>-22.877564</td>\n",
       "    </tr>\n",
       "    <tr>\n",
       "      <th>2018-09</th>\n",
       "      <td>-26.675101</td>\n",
       "    </tr>\n",
       "    <tr>\n",
       "      <th>2018-10</th>\n",
       "      <td>-25.049729</td>\n",
       "    </tr>\n",
       "    <tr>\n",
       "      <th>2018-11</th>\n",
       "      <td>-24.833158</td>\n",
       "    </tr>\n",
       "    <tr>\n",
       "      <th>2018-12</th>\n",
       "      <td>-30.208682</td>\n",
       "    </tr>\n",
       "  </tbody>\n",
       "</table>\n",
       "</div>"
      ],
      "text/plain": [
       "                 0\n",
       "Date              \n",
       "2016-12  -9.543547\n",
       "2017-01  -7.818792\n",
       "2017-02  -7.704026\n",
       "2017-03 -11.047405\n",
       "2017-04  -6.157696\n",
       "2017-05 -11.433835\n",
       "2017-06 -11.248057\n",
       "2017-07  -5.200048\n",
       "2017-08  -6.254903\n",
       "2017-09  -2.812811\n",
       "2017-10  -4.915089\n",
       "2017-11 -11.060776\n",
       "2017-12  -6.857752\n",
       "2018-01 -14.276948\n",
       "2018-02 -24.489993\n",
       "2018-03 -32.479795\n",
       "2018-04 -36.594344\n",
       "2018-05 -26.277917\n",
       "2018-06 -30.118791\n",
       "2018-07 -32.325901\n",
       "2018-08 -22.877564\n",
       "2018-09 -26.675101\n",
       "2018-10 -25.049729\n",
       "2018-11 -24.833158\n",
       "2018-12 -30.208682"
      ]
     },
     "execution_count": 89,
     "metadata": {},
     "output_type": "execute_result"
    }
   ],
   "source": [
    "test = mean_forecasts.reset_index()\n",
    "test['Date'] = test['index'].dt.strftime('%Y-%m')\n",
    "test.drop(columns=['index'], inplace=True, axis=1)\n",
    "test.set_index('Date', inplace=True)\n",
    "test"
   ]
  },
  {
   "cell_type": "code",
   "execution_count": 90,
   "metadata": {},
   "outputs": [
    {
     "data": {
      "text/html": [
       "<div>\n",
       "<style scoped>\n",
       "    .dataframe tbody tr th:only-of-type {\n",
       "        vertical-align: middle;\n",
       "    }\n",
       "\n",
       "    .dataframe tbody tr th {\n",
       "        vertical-align: top;\n",
       "    }\n",
       "\n",
       "    .dataframe thead th {\n",
       "        text-align: right;\n",
       "    }\n",
       "</style>\n",
       "<table border=\"1\" class=\"dataframe\">\n",
       "  <thead>\n",
       "    <tr style=\"text-align: right;\">\n",
       "      <th></th>\n",
       "      <th>count</th>\n",
       "    </tr>\n",
       "    <tr>\n",
       "      <th>Date</th>\n",
       "      <th></th>\n",
       "    </tr>\n",
       "  </thead>\n",
       "  <tbody>\n",
       "    <tr>\n",
       "      <th>2012-01</th>\n",
       "      <td>19</td>\n",
       "    </tr>\n",
       "    <tr>\n",
       "      <th>2012-02</th>\n",
       "      <td>12</td>\n",
       "    </tr>\n",
       "    <tr>\n",
       "      <th>2012-03</th>\n",
       "      <td>15</td>\n",
       "    </tr>\n",
       "    <tr>\n",
       "      <th>2012-04</th>\n",
       "      <td>25</td>\n",
       "    </tr>\n",
       "    <tr>\n",
       "      <th>2012-05</th>\n",
       "      <td>8</td>\n",
       "    </tr>\n",
       "    <tr>\n",
       "      <th>...</th>\n",
       "      <td>...</td>\n",
       "    </tr>\n",
       "    <tr>\n",
       "      <th>2018-08</th>\n",
       "      <td>20</td>\n",
       "    </tr>\n",
       "    <tr>\n",
       "      <th>2018-09</th>\n",
       "      <td>17</td>\n",
       "    </tr>\n",
       "    <tr>\n",
       "      <th>2018-10</th>\n",
       "      <td>22</td>\n",
       "    </tr>\n",
       "    <tr>\n",
       "      <th>2018-11</th>\n",
       "      <td>21</td>\n",
       "    </tr>\n",
       "    <tr>\n",
       "      <th>2018-12</th>\n",
       "      <td>13</td>\n",
       "    </tr>\n",
       "  </tbody>\n",
       "</table>\n",
       "<p>84 rows × 1 columns</p>\n",
       "</div>"
      ],
      "text/plain": [
       "         count\n",
       "Date          \n",
       "2012-01     19\n",
       "2012-02     12\n",
       "2012-03     15\n",
       "2012-04     25\n",
       "2012-05      8\n",
       "...        ...\n",
       "2018-08     20\n",
       "2018-09     17\n",
       "2018-10     22\n",
       "2018-11     21\n",
       "2018-12     13\n",
       "\n",
       "[84 rows x 1 columns]"
      ]
     },
     "execution_count": 90,
     "metadata": {},
     "output_type": "execute_result"
    }
   ],
   "source": [
    "data"
   ]
  },
  {
   "cell_type": "code",
   "execution_count": 91,
   "metadata": {},
   "outputs": [
    {
     "data": {
      "text/plain": [
       "<matplotlib.axes._subplots.AxesSubplot at 0x1abe96813c8>"
      ]
     },
     "execution_count": 91,
     "metadata": {},
     "output_type": "execute_result"
    },
    {
     "data": {
      "image/png": "[encoded data removed]",
      "text/plain": [
       "<Figure size 504x288 with 1 Axes>"
      ]
     },
     "metadata": {
      "needs_background": "light"
     },
     "output_type": "display_data"
    }
   ],
   "source": [
    "fig = data.plot(figsize=(7,4))\n",
    "fig2 = test.plot(ax=fig)\n",
    "# fig2.legend(['count', 'forecasted']);\n",
    "fig"
   ]
  },
  {
   "cell_type": "code",
   "execution_count": 97,
   "metadata": {},
   "outputs": [
    {
     "data": {
      "text/html": [
       "<div>\n",
       "<style scoped>\n",
       "    .dataframe tbody tr th:only-of-type {\n",
       "        vertical-align: middle;\n",
       "    }\n",
       "\n",
       "    .dataframe tbody tr th {\n",
       "        vertical-align: top;\n",
       "    }\n",
       "\n",
       "    .dataframe thead th {\n",
       "        text-align: right;\n",
       "    }\n",
       "</style>\n",
       "<table border=\"1\" class=\"dataframe\">\n",
       "  <thead>\n",
       "    <tr style=\"text-align: right;\">\n",
       "      <th></th>\n",
       "      <th>count</th>\n",
       "      <th>0</th>\n",
       "    </tr>\n",
       "  </thead>\n",
       "  <tbody>\n",
       "    <tr>\n",
       "      <th>2012-01</th>\n",
       "      <td>19</td>\n",
       "      <td>NaN</td>\n",
       "    </tr>\n",
       "    <tr>\n",
       "      <th>2012-02</th>\n",
       "      <td>12</td>\n",
       "      <td>NaN</td>\n",
       "    </tr>\n",
       "    <tr>\n",
       "      <th>2012-03</th>\n",
       "      <td>15</td>\n",
       "      <td>NaN</td>\n",
       "    </tr>\n",
       "    <tr>\n",
       "      <th>2012-04</th>\n",
       "      <td>25</td>\n",
       "      <td>NaN</td>\n",
       "    </tr>\n",
       "    <tr>\n",
       "      <th>2012-05</th>\n",
       "      <td>8</td>\n",
       "      <td>NaN</td>\n",
       "    </tr>\n",
       "    <tr>\n",
       "      <th>...</th>\n",
       "      <td>...</td>\n",
       "      <td>...</td>\n",
       "    </tr>\n",
       "    <tr>\n",
       "      <th>2018-08</th>\n",
       "      <td>20</td>\n",
       "      <td>-22.877564</td>\n",
       "    </tr>\n",
       "    <tr>\n",
       "      <th>2018-09</th>\n",
       "      <td>17</td>\n",
       "      <td>-26.675101</td>\n",
       "    </tr>\n",
       "    <tr>\n",
       "      <th>2018-10</th>\n",
       "      <td>22</td>\n",
       "      <td>-25.049729</td>\n",
       "    </tr>\n",
       "    <tr>\n",
       "      <th>2018-11</th>\n",
       "      <td>21</td>\n",
       "      <td>-24.833158</td>\n",
       "    </tr>\n",
       "    <tr>\n",
       "      <th>2018-12</th>\n",
       "      <td>13</td>\n",
       "      <td>-30.208682</td>\n",
       "    </tr>\n",
       "  </tbody>\n",
       "</table>\n",
       "<p>84 rows × 2 columns</p>\n",
       "</div>"
      ],
      "text/plain": [
       "         count          0\n",
       "2012-01     19        NaN\n",
       "2012-02     12        NaN\n",
       "2012-03     15        NaN\n",
       "2012-04     25        NaN\n",
       "2012-05      8        NaN\n",
       "...        ...        ...\n",
       "2018-08     20 -22.877564\n",
       "2018-09     17 -26.675101\n",
       "2018-10     22 -25.049729\n",
       "2018-11     21 -24.833158\n",
       "2018-12     13 -30.208682\n",
       "\n",
       "[84 rows x 2 columns]"
      ]
     },
     "execution_count": 97,
     "metadata": {},
     "output_type": "execute_result"
    }
   ],
   "source": [
    "plot_data"
   ]
  },
  {
   "cell_type": "code",
   "execution_count": 120,
   "metadata": {},
   "outputs": [
    {
     "data": {
      "image/png": "[encoded data removed]",
      "text/plain": [
       "<Figure size 504x288 with 1 Axes>"
      ]
     },
     "metadata": {
      "needs_background": "light"
     },
     "output_type": "display_data"
    }
   ],
   "source": [
    "plot_data = pd.concat([data, test], axis=1)\n",
    "fig_plot = plot_data['count'].plot(figsize=(7,4))\n",
    "plot_data['predicted_mean'].plot(ax=fig_plot)\n",
    "# fig2.legend(['count', 'forecasted']);\n",
    "fig_plot;"
   ]
  },
  {
   "cell_type": "code",
   "execution_count": 121,
   "metadata": {},
   "outputs": [
    {
     "data": {
      "image/png": "[encoded data removed]",
      "text/plain": [
       "<Figure size 504x288 with 1 Axes>"
      ]
     },
     "metadata": {
      "needs_background": "light"
     },
     "output_type": "display_data"
    }
   ],
   "source": [
    "test_2 = test.rename(columns={0:'predicted_mean'})\n",
    "test_2['predicted_mean'] *= -1\n",
    "plot_data_2 = pd.concat([data, test_2], axis=1)\n",
    "fig_plot_2 = plot_data_2['count'].plot(figsize=(7,4))\n",
    "plot_data_2['predicted_mean'].plot(ax=fig_plot_2)\n",
    "# fig2.legend(['count', 'forecasted']);\n",
    "fig_plot_2;"
   ]
  },
  {
   "cell_type": "code",
   "execution_count": 106,
   "metadata": {},
   "outputs": [
    {
     "data": {
      "text/plain": [
       "array(['Anti-social behaviour', 'Burglary', 'Criminal damage and arson',\n",
       "       'Drugs', 'Other crime', 'Other theft', 'Robbery', 'Shoplifting',\n",
       "       'Vehicle crime', 'Violence and sexual offences', 'Bicycle theft',\n",
       "       'Possession of weapons', 'Public order', 'Theft from the person'],\n",
       "      dtype=object)"
      ]
     },
     "execution_count": 106,
     "metadata": {},
     "output_type": "execute_result"
    }
   ],
   "source": [
    "Train['Crime type'].unique()"
   ]
  },
  {
   "cell_type": "code",
   "execution_count": null,
   "metadata": {},
   "outputs": [],
   "source": []
  },
  {
   "cell_type": "code",
   "execution_count": null,
   "metadata": {},
   "outputs": [],
   "source": []
  }
 ],
 "metadata": {
  "kernelspec": {
   "display_name": "Python 3",
   "language": "python",
   "name": "python3"
  },
  "language_info": {
   "codemirror_mode": {
    "name": "ipython",
    "version": 3
   },
   "file_extension": ".py",
   "mimetype": "text/x-python",
   "name": "python",
   "nbconvert_exporter": "python",
   "pygments_lexer": "ipython3",
   "version": "3.7.6"
  }
 },
 "nbformat": 4,
 "nbformat_minor": 5
}
