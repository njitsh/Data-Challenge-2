{
 "cells": [
  {
   "cell_type": "markdown",
   "metadata": {},
   "source": [
    "# Preprocessing and reading in train - and test dataset"
   ]
  },
  {
   "cell_type": "code",
   "execution_count": 1,
   "metadata": {},
   "outputs": [],
   "source": [
    "import pandas as pd\n",
    "import numpy as np\n",
    "import matplotlib as mpl\n",
    "import matplotlib.pyplot as plt\n",
    "import math\n",
    "from datetime import timedelta\n",
    "import glob\n",
    "import os\n",
    "from tqdm import tqdm as tqdm\n",
    "import time\n",
    "import seaborn as sns\n",
    "\n",
    "%matplotlib inline\n",
    "import statsmodels.api as sm\n",
    "from statsmodels.compat import lzip\n",
    "from statsmodels.formula.api import ols\n",
    "from sklearn.ensemble import GradientBoostingRegressor\n",
    "from sklearn.preprocessing import OneHotEncoder\n",
    "from sklearn.linear_model import LinearRegression\n",
    "from sklearn.metrics import r2_score\n",
    "from sklearn.metrics import mean_squared_error\n",
    "from statsmodels.tsa.statespace.sarimax import SARIMAX\n",
    "from statsmodels.tsa.stattools import adfuller\n",
    "\n",
    "import warnings\n",
    "warnings.filterwarnings('ignore')\n",
    "\n",
    "from numpy import cumsum\n",
    "from datetime import datetime as dt"
   ]
  },
  {
   "cell_type": "code",
   "execution_count": null,
   "metadata": {},
   "outputs": [],
   "source": [
    "data_path = input(\"Enter the path to the data folder: \")"
   ]
  },
  {
   "cell_type": "code",
   "execution_count": 4,
   "metadata": {},
   "outputs": [],
   "source": [
    "Train = pd.read_csv(str(data_path) + \"\\\\train_count_street_data.csv\")\n",
    "Train.drop(\"Unnamed: 0\", axis=1, inplace=True)\n",
    "\n",
    "TestCovid = pd.read_csv(data_path + \"\\\\test_covid_count_street_data.csv\")\n",
    "TestCovid.drop(\"Unnamed: 0\", axis=1, inplace=True)\n",
    "\n",
    "TestNoCovid = pd.read_csv(data_path + \"\\\\test_no_covid_count_street_data.csv\")\n",
    "TestNoCovid.drop(\"Unnamed: 0\", axis=1, inplace=True)\n",
    "\n",
    "TrainWithNoCovid = pd.read_csv(data_path + \"\\\\train_with_no_covid_count_street_data.csv\")\n",
    "TrainWithNoCovid.drop(\"Unnamed: 0\", axis=1, inplace=True)"
   ]
  },
  {
   "cell_type": "markdown",
   "metadata": {},
   "source": [
    "# Building a multivariate linear regression model"
   ]
  },
  {
   "cell_type": "code",
   "execution_count": 5,
   "metadata": {},
   "outputs": [],
   "source": [
    "# X_train = Train[['Year', 'Month', 'MSOA', 'Crime type']]\n",
    "# X_train = pd.concat([X_train,pd.get_dummies(X_train['Crime type'])],axis=1)\n",
    "# X_train.drop(['Crime type'],axis=1, inplace=True)\n",
    "\n",
    "# y_train = Train['count']\n",
    "\n",
    "# X_test = TestNoCovid[['Year', 'Month', 'MSOA', 'Crime type']]\n",
    "# X_test = pd.concat([X_test,pd.get_dummies(X_test['Crime type'])],axis=1)\n",
    "# X_test.drop(['Crime type'],axis=1, inplace=True)\n",
    "\n",
    "# y_test = TestNoCovid['count']\n",
    "\n",
    "# # Creating a new model and fitting it\n",
    "# multi_model = LinearRegression()\n",
    "# multi_model.fit(X_train, y_train)\n",
    "\n",
    "# # Prediction new values\n",
    "# predictions = multi_model.predict(X_test)\n",
    "# r2 = r2_score(y_test, predictions)\n",
    "# rmse = mean_squared_error(y_test, predictions, squared=False)\n",
    "\n",
    "# print('The r2 is: ', r2)\n",
    "# print('The rmse is: ', rmse)"
   ]
  },
  {
   "cell_type": "code",
   "execution_count": 6,
   "metadata": {},
   "outputs": [],
   "source": [
    "# multi_model.coef_"
   ]
  },
  {
   "cell_type": "markdown",
   "metadata": {},
   "source": [
    "# Arima"
   ]
  },
  {
   "cell_type": "markdown",
   "metadata": {},
   "source": [
    "In ARIMA_OPTIMAL there has to be the 'd' added as hyperparameter looping. Furthermore, there has to get a bugfix for when optimum returns more than 1 row. (MSE instead of AIC?)"
   ]
  },
  {
   "cell_type": "code",
   "execution_count": 7,
   "metadata": {},
   "outputs": [],
   "source": [
    "def ARIMA_DATA(df, MSOA, category):\n",
    "    ###Gets the data of a specific MSOA and category to use in the ARIMA_OPTIMAL function\n",
    "    ###\n",
    "    \n",
    "    df = df[(df['MSOA'] == int(MSOA)) & (df['Crime type'] == category)]\n",
    "    df = df[['Date', 'count']]\n",
    "    df = df.set_index('Date')\n",
    "    \n",
    "    return df\n",
    "\n",
    "def ARIMA_STATIONARY(df):\n",
    "    ###Returns a stationary dataframe, created by ARIMA_DATA\n",
    "    ###\n",
    "    if adfuller(df['count'])[1] > 0.05:\n",
    "        df = df.diff().dropna()\n",
    "    \n",
    "    return df\n",
    "\n",
    "def ARIMA_OPTIMAL(stationary_data, MSOA, category):\n",
    "    ### Looks for the best ARMA(p,q) + constant model according to MSOA and crime type\n",
    "    ###\n",
    "    \n",
    "    order_aic_bic = list()\n",
    "\n",
    "    # Loop over AR order\n",
    "    for p in range(1,4):\n",
    "        # Loop over MA order\n",
    "        for q in range(1,4):\n",
    "            #for d in range(3):\n",
    "            try:\n",
    "            # Fit model\n",
    "                model = SARIMAX(stationary_data, order=(p,0,q), trend='c')\n",
    "                results = model.fit()\n",
    "                # Add order and scores to list\n",
    "                order_aic_bic.append((p, q, results.aic))\n",
    "            except:\n",
    "                continue\n",
    "            \n",
    "    order_df = pd.DataFrame(order_aic_bic, columns=['p','q','aic'])\n",
    "    optimum = order_df[order_df['aic'] == order_df['aic'].min()]\n",
    "    optimum.reset_index(inplace=True)\n",
    "    return optimum['p'][0], optimum['q'][0], optimum['aic'][0]\n",
    "\n",
    "def ARIMA_PREDICT(df, MSOA, category):\n",
    "    ###Forecasts via ARIMA approach\n",
    "    ###\n",
    "    \n",
    "    arima_data = ARIMA_DATA(df, MSOA, category)\n",
    "    stationary_data = ARIMA_STATIONARY(arima_data)\n",
    "    \n",
    "    p,q = ARIMA_OPTIMAL(stationary_data, MSOA, category)[0:2]\n",
    "    \n",
    "    model = SARIMAX(stationary_data, order=(p,0,q), trend='c')\n",
    "    results = model.fit()\n",
    "    forecast = results.get_prediction(start=-25)\n",
    "    mean_forecast = cumsum(forecast.predicted_mean) + stationary_data.iloc[-1,0]\n",
    "    confidence_intervals = cumsum(forecast.conf_int())\n",
    "    return arima_data, mean_forecast.to_frame(), confidence_intervals\n",
    "\n",
    "def ARIMA_SUMMARY(df, MSOA, category):\n",
    "    \n",
    "    stationary_data = ARIMA_STATIONARY(ARIMA_DATA(df, MSOA, category))\n",
    "    \n",
    "    p,q = ARIMA_OPTIMAL(stationary_data, MSOA, category)[0:2]\n",
    "    \n",
    "    model = SARIMAX(stationary_data, order=(p,0,q), trend='c')\n",
    "    results = model.fit()\n",
    "    \n",
    "    return results.summary()\n",
    "\n",
    "def model_predict(df, msoa, category):\n",
    "    data, mean_forecasts, confidence_intervals = ARIMA_PREDICT(df, msoa, category)\n",
    "    \n",
    "    lower_limits = confidence_intervals['lower count']\n",
    "    upper_limits = confidence_intervals['upper count']\n",
    "    \n",
    "    return data, mean_forecasts, confidence_intervals, lower_limits, upper_limits\n",
    "\n",
    "def get_best_models(df):\n",
    "    param = list()\n",
    "    \n",
    "    for MSOA in tqdm(df['MSOA'].unique()):\n",
    "        for category in df['Crime type'].unique():\n",
    "            arima_data = ARIMA_DATA(df, MSOA, category)\n",
    "            stationary_data = ARIMA_STATIONARY(arima_data)\n",
    "            p, q, aic = ARIMA_OPTIMAL(stationary_data, MSOA, category)\n",
    "            param.append((MSOA, category, p, q, aic))\n",
    "            \n",
    "    return pd.DataFrame(param, columns=['MSOA', 'Crime type', 'p','q', 'aic'])"
   ]
  },
  {
   "cell_type": "code",
   "execution_count": 8,
   "metadata": {},
   "outputs": [],
   "source": [
    "#print(ARIMA_SUMMARY(Train, '099', 'Anti-social behaviour'))"
   ]
  },
  {
   "cell_type": "code",
   "execution_count": 9,
   "metadata": {},
   "outputs": [],
   "source": [
    "# data = ARIMA_DATA(Train, '099', 'Anti-social behaviour')\n",
    "# mean_forecasts = ARIMA_PREDICT(Train, '099', 'Anti-social behaviour')[0].to_frame()\n",
    "# confidence_intervals = ARIMA_PREDICT(Train, '099', 'Anti-social behaviour')[1]\n",
    "# lower_limits = confidence_intervals['lower count']\n",
    "# upper_limits = confidence_intervals['upper count']"
   ]
  },
  {
   "cell_type": "code",
   "execution_count": 10,
   "metadata": {},
   "outputs": [],
   "source": [
    "data, mean_forecasts, confidence_intervals, lower_limits, upper_limits = model_predict(Train, '099', 'Anti-social behaviour')"
   ]
  },
  {
   "cell_type": "code",
   "execution_count": null,
   "metadata": {},
   "outputs": [],
   "source": [
    "best_models = get_best_models(Train)\n",
    "best_models"
   ]
  },
  {
   "cell_type": "code",
   "execution_count": null,
   "metadata": {},
   "outputs": [],
   "source": [
    "best_models.to_csv(\"train_best_models.csv\")"
   ]
  },
  {
   "cell_type": "code",
   "execution_count": null,
   "metadata": {},
   "outputs": [],
   "source": [
    "best_models_train_with_no_covid = get_best_models(TrainWithNoCovid)\n",
    "best_models_train_with_no_covid"
   ]
  },
  {
   "cell_type": "code",
   "execution_count": null,
   "metadata": {},
   "outputs": [],
   "source": [
    "best_models_train_with_no_covid.to_csv(\"train_with_no_covid_best_models.csv\")"
   ]
  },
  {
   "cell_type": "code",
   "execution_count": 11,
   "metadata": {
    "scrolled": true
   },
   "outputs": [
    {
     "name": "stdout",
     "output_type": "stream",
     "text": [
      "                               SARIMAX Results                                \n",
      "==============================================================================\n",
      "Dep. Variable:                  count   No. Observations:                   83\n",
      "Model:               SARIMAX(3, 0, 3)   Log Likelihood                -302.513\n",
      "Date:                Thu, 31 Mar 2022   AIC                            621.027\n",
      "Time:                        15:33:27   BIC                            640.378\n",
      "Sample:                    02-01-2012   HQIC                           628.801\n",
      "                         - 12-01-2018                                         \n",
      "Covariance Type:                  opg                                         \n",
      "==============================================================================\n",
      "                 coef    std err          z      P>|z|      [0.025      0.975]\n",
      "------------------------------------------------------------------------------\n",
      "intercept     -0.3216      0.159     -2.019      0.043      -0.634      -0.009\n",
      "ar.L1         -0.5810      0.153     -3.789      0.000      -0.882      -0.281\n",
      "ar.L2         -0.6004      0.144     -4.161      0.000      -0.883      -0.318\n",
      "ar.L3          0.3918      0.131      2.982      0.003       0.134       0.649\n",
      "ma.L1         -0.0756     65.543     -0.001      0.999    -128.537     128.386\n",
      "ma.L2          0.0680     60.513      0.001      0.999    -118.536     118.672\n",
      "ma.L3         -0.9923     65.269     -0.015      0.988    -128.918     126.933\n",
      "sigma2        78.3220   5150.180      0.015      0.988      -1e+04    1.02e+04\n",
      "===================================================================================\n",
      "Ljung-Box (Q):                       33.08   Jarque-Bera (JB):                 4.32\n",
      "Prob(Q):                              0.77   Prob(JB):                         0.12\n",
      "Heteroskedasticity (H):               0.97   Skew:                             0.56\n",
      "Prob(H) (two-sided):                  0.94   Kurtosis:                         2.96\n",
      "===================================================================================\n",
      "\n",
      "Warnings:\n",
      "[1] Covariance matrix calculated using the outer product of gradients (complex-step).\n"
     ]
    }
   ],
   "source": [
    "print(ARIMA_SUMMARY(Train, '099', 'Anti-social behaviour'))"
   ]
  },
  {
   "cell_type": "code",
   "execution_count": 12,
   "metadata": {
    "scrolled": true
   },
   "outputs": [
    {
     "data": {
      "text/html": [
       "<div>\n",
       "<style scoped>\n",
       "    .dataframe tbody tr th:only-of-type {\n",
       "        vertical-align: middle;\n",
       "    }\n",
       "\n",
       "    .dataframe tbody tr th {\n",
       "        vertical-align: top;\n",
       "    }\n",
       "\n",
       "    .dataframe thead th {\n",
       "        text-align: right;\n",
       "    }\n",
       "</style>\n",
       "<table border=\"1\" class=\"dataframe\">\n",
       "  <thead>\n",
       "    <tr style=\"text-align: right;\">\n",
       "      <th></th>\n",
       "      <th>predicted_mean</th>\n",
       "    </tr>\n",
       "    <tr>\n",
       "      <th>Date</th>\n",
       "      <th></th>\n",
       "    </tr>\n",
       "  </thead>\n",
       "  <tbody>\n",
       "    <tr>\n",
       "      <th>2016-12</th>\n",
       "      <td>11.855961</td>\n",
       "    </tr>\n",
       "    <tr>\n",
       "      <th>2017-01</th>\n",
       "      <td>28.421856</td>\n",
       "    </tr>\n",
       "    <tr>\n",
       "      <th>2017-02</th>\n",
       "      <td>16.552574</td>\n",
       "    </tr>\n",
       "    <tr>\n",
       "      <th>2017-03</th>\n",
       "      <td>20.460201</td>\n",
       "    </tr>\n",
       "    <tr>\n",
       "      <th>2017-04</th>\n",
       "      <td>18.647134</td>\n",
       "    </tr>\n",
       "    <tr>\n",
       "      <th>2017-05</th>\n",
       "      <td>8.779552</td>\n",
       "    </tr>\n",
       "    <tr>\n",
       "      <th>2017-06</th>\n",
       "      <td>13.842833</td>\n",
       "    </tr>\n",
       "    <tr>\n",
       "      <th>2017-07</th>\n",
       "      <td>19.633676</td>\n",
       "    </tr>\n",
       "    <tr>\n",
       "      <th>2017-08</th>\n",
       "      <td>12.830440</td>\n",
       "    </tr>\n",
       "    <tr>\n",
       "      <th>2017-09</th>\n",
       "      <td>6.878628</td>\n",
       "    </tr>\n",
       "    <tr>\n",
       "      <th>2017-10</th>\n",
       "      <td>9.222734</td>\n",
       "    </tr>\n",
       "    <tr>\n",
       "      <th>2017-11</th>\n",
       "      <td>-3.789888</td>\n",
       "    </tr>\n",
       "    <tr>\n",
       "      <th>2017-12</th>\n",
       "      <td>-3.304808</td>\n",
       "    </tr>\n",
       "    <tr>\n",
       "      <th>2018-01</th>\n",
       "      <td>10.581768</td>\n",
       "    </tr>\n",
       "    <tr>\n",
       "      <th>2018-02</th>\n",
       "      <td>8.249016</td>\n",
       "    </tr>\n",
       "    <tr>\n",
       "      <th>2018-03</th>\n",
       "      <td>19.372978</td>\n",
       "    </tr>\n",
       "    <tr>\n",
       "      <th>2018-04</th>\n",
       "      <td>16.911201</td>\n",
       "    </tr>\n",
       "    <tr>\n",
       "      <th>2018-05</th>\n",
       "      <td>14.536537</td>\n",
       "    </tr>\n",
       "    <tr>\n",
       "      <th>2018-06</th>\n",
       "      <td>7.877888</td>\n",
       "    </tr>\n",
       "    <tr>\n",
       "      <th>2018-07</th>\n",
       "      <td>15.127988</td>\n",
       "    </tr>\n",
       "    <tr>\n",
       "      <th>2018-08</th>\n",
       "      <td>7.601811</td>\n",
       "    </tr>\n",
       "    <tr>\n",
       "      <th>2018-09</th>\n",
       "      <td>1.763347</td>\n",
       "    </tr>\n",
       "    <tr>\n",
       "      <th>2018-10</th>\n",
       "      <td>4.302382</td>\n",
       "    </tr>\n",
       "    <tr>\n",
       "      <th>2018-11</th>\n",
       "      <td>-10.068700</td>\n",
       "    </tr>\n",
       "    <tr>\n",
       "      <th>2018-12</th>\n",
       "      <td>-5.561794</td>\n",
       "    </tr>\n",
       "  </tbody>\n",
       "</table>\n",
       "</div>"
      ],
      "text/plain": [
       "         predicted_mean\n",
       "Date                   \n",
       "2016-12       11.855961\n",
       "2017-01       28.421856\n",
       "2017-02       16.552574\n",
       "2017-03       20.460201\n",
       "2017-04       18.647134\n",
       "2017-05        8.779552\n",
       "2017-06       13.842833\n",
       "2017-07       19.633676\n",
       "2017-08       12.830440\n",
       "2017-09        6.878628\n",
       "2017-10        9.222734\n",
       "2017-11       -3.789888\n",
       "2017-12       -3.304808\n",
       "2018-01       10.581768\n",
       "2018-02        8.249016\n",
       "2018-03       19.372978\n",
       "2018-04       16.911201\n",
       "2018-05       14.536537\n",
       "2018-06        7.877888\n",
       "2018-07       15.127988\n",
       "2018-08        7.601811\n",
       "2018-09        1.763347\n",
       "2018-10        4.302382\n",
       "2018-11      -10.068700\n",
       "2018-12       -5.561794"
      ]
     },
     "execution_count": 12,
     "metadata": {},
     "output_type": "execute_result"
    }
   ],
   "source": [
    "test = mean_forecasts.reset_index()\n",
    "test['Date'] = test['index'].dt.strftime('%Y-%m')\n",
    "test.drop(columns=['index'], inplace=True, axis=1)\n",
    "test.set_index('Date', inplace=True)\n",
    "test = test.rename(columns={0:'predicted_mean'})\n",
    "test_2 = test.copy()\n",
    "test"
   ]
  },
  {
   "cell_type": "code",
   "execution_count": 13,
   "metadata": {},
   "outputs": [],
   "source": [
    "# fig = data.plot(figsize=(7,4))\n",
    "# fig2 = test.plot(ax=fig)\n",
    "# # fig2.legend(['count', 'forecasted']);\n",
    "# fig"
   ]
  },
  {
   "cell_type": "code",
   "execution_count": 14,
   "metadata": {},
   "outputs": [
    {
     "data": {
      "image/png": "[encoded data removed]",
      "text/plain": [
       "<Figure size 504x288 with 1 Axes>"
      ]
     },
     "metadata": {
      "needs_background": "light"
     },
     "output_type": "display_data"
    }
   ],
   "source": [
    "plot_data = pd.concat([data, test], axis=1)\n",
    "fig_plot = plot_data['count'].plot(figsize=(7,4))\n",
    "plot_data['predicted_mean'].plot(ax=fig_plot)\n",
    "# fig2.legend(['count', 'forecasted']);\n",
    "fig_plot;"
   ]
  },
  {
   "cell_type": "code",
   "execution_count": 15,
   "metadata": {},
   "outputs": [
    {
     "name": "stdout",
     "output_type": "stream",
     "text": [
      "         count  predicted_mean\n",
      "2012-01     37             NaN\n",
      "2012-02     45             NaN\n",
      "2012-03     40             NaN\n",
      "2012-04     46             NaN\n",
      "2012-05     52             NaN\n",
      "2012-06     62             NaN\n",
      "2012-07     70             NaN\n",
      "2012-08     55             NaN\n",
      "2012-09     39             NaN\n",
      "2012-10     34             NaN\n",
      "2012-11     36             NaN\n",
      "2012-12     36             NaN\n",
      "2013-01     42             NaN\n",
      "2013-02     32             NaN\n",
      "2013-03     38             NaN\n",
      "2013-04     62             NaN\n",
      "2013-05     47             NaN\n",
      "2013-06     40             NaN\n",
      "2013-07     68             NaN\n",
      "2013-08     66             NaN\n",
      "2013-09     53             NaN\n",
      "2013-10     51             NaN\n",
      "2013-11     45             NaN\n",
      "2013-12     32             NaN\n",
      "2014-01     43             NaN\n",
      "2014-02     29             NaN\n",
      "2014-03     52             NaN\n",
      "2014-04     52             NaN\n",
      "2014-05     40             NaN\n",
      "2014-06     42             NaN\n",
      "2014-07     60             NaN\n",
      "2014-08     35             NaN\n",
      "2014-09     39             NaN\n",
      "2014-10     46             NaN\n",
      "2014-11     32             NaN\n",
      "2014-12     41             NaN\n",
      "2015-01     46             NaN\n",
      "2015-02     33             NaN\n",
      "2015-03     40             NaN\n",
      "2015-04     39             NaN\n",
      "2015-05     33             NaN\n",
      "2015-06     37             NaN\n",
      "2015-07     33             NaN\n",
      "2015-08     32             NaN\n",
      "2015-09     27             NaN\n",
      "2015-10     36             NaN\n",
      "2015-11     28             NaN\n",
      "2015-12     30             NaN\n",
      "2016-01     35             NaN\n",
      "2016-02     29             NaN\n",
      "2016-03     26             NaN\n",
      "2016-04     29             NaN\n",
      "2016-05     29             NaN\n",
      "2016-06     55             NaN\n",
      "2016-07     50             NaN\n",
      "2016-08     42             NaN\n",
      "2016-09     43             NaN\n",
      "2016-10     52             NaN\n",
      "2016-11     29             NaN\n",
      "2016-12     14       11.855961\n",
      "2017-01     46       28.421856\n",
      "2017-02     32       16.552574\n",
      "2017-03     44       20.460201\n",
      "2017-04     43       18.647134\n",
      "2017-05     30        8.779552\n",
      "2017-06     31       13.842833\n",
      "2017-07     37       19.633676\n",
      "2017-08     46       12.830440\n",
      "2017-09     38        6.878628\n",
      "2017-10     47        9.222734\n",
      "2017-11     35       -3.789888\n",
      "2017-12     20       -3.304808\n",
      "2018-01     28       10.581768\n",
      "2018-02     16        8.249016\n",
      "2018-03     44       19.372978\n",
      "2018-04     30       16.911201\n",
      "2018-05     43       14.536537\n",
      "2018-06     29        7.877888\n",
      "2018-07     38       15.127988\n",
      "2018-08     40        7.601811\n",
      "2018-09     37        1.763347\n",
      "2018-10     49        4.302382\n",
      "2018-11     24      -10.068700\n",
      "2018-12     30       -5.561794\n"
     ]
    }
   ],
   "source": [
    "print(plot_data.to_string())"
   ]
  },
  {
   "cell_type": "markdown",
   "metadata": {},
   "source": [
    "### Inverted predictions (wrong?)"
   ]
  },
  {
   "cell_type": "code",
   "execution_count": 16,
   "metadata": {},
   "outputs": [
    {
     "data": {
      "image/png": "[encoded data removed]",
      "text/plain": [
       "<Figure size 504x288 with 1 Axes>"
      ]
     },
     "metadata": {
      "needs_background": "light"
     },
     "output_type": "display_data"
    }
   ],
   "source": [
    "test_2['predicted_mean'] *= -1\n",
    "plot_data_2 = pd.concat([data, test_2], axis=1)\n",
    "fig_plot_2 = plot_data_2['count'].plot(figsize=(7,4))\n",
    "plot_data_2['predicted_mean'].plot(ax=fig_plot_2)\n",
    "# fig2.legend(['count', 'forecasted']);\n",
    "fig_plot_2;"
   ]
  },
  {
   "cell_type": "code",
   "execution_count": 17,
   "metadata": {},
   "outputs": [],
   "source": [
    "#Train['Crime type'].unique()"
   ]
  },
  {
   "cell_type": "code",
   "execution_count": null,
   "metadata": {},
   "outputs": [],
   "source": []
  }
 ],
 "metadata": {
  "kernelspec": {
   "display_name": "Python 3",
   "language": "python",
   "name": "python3"
  },
  "language_info": {
   "codemirror_mode": {
    "name": "ipython",
    "version": 3
   },
   "file_extension": ".py",
   "mimetype": "text/x-python",
   "name": "python",
   "nbconvert_exporter": "python",
   "pygments_lexer": "ipython3",
   "version": "3.7.6"
  }
 },
 "nbformat": 4,
 "nbformat_minor": 5
}
