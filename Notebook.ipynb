{
 "cells": [
  {
   "cell_type": "markdown",
   "metadata": {
    "colab_type": "text",
    "id": "view-in-github"
   },
   "source": []
  },
  {
   "cell_type": "code",
   "execution_count": 1,
   "metadata": {},
   "outputs": [],
   "source": [
    "import pandas as pd\n",
    "import glob\n",
    "import os\n",
    "from tqdm import tqdm as tqdm\n",
    "import time"
   ]
  },
  {
   "cell_type": "code",
   "execution_count": 2,
   "metadata": {
    "id": "IOWrmj4OeBmB"
   },
   "outputs": [],
   "source": [
    "import pandas as pd\n",
    "import numpy as np\n",
    "import matplotlib as mpl\n",
    "import matplotlib.pyplot as plt\n",
    "import math\n",
    "from datetime import timedelta\n",
    "import glob\n",
    "import os\n",
    "from tqdm import tqdm as tqdm\n",
    "import time\n",
    "\n",
    "import geopandas\n",
    "import geopy\n",
    "from geopy.geocoders import Nominatim\n",
    "import folium\n",
    "from geopy.extra.rate_limiter import RateLimiter\n",
    "from folium import plugins\n",
    "from folium.plugins import MarkerCluster\n",
    "from folium.plugins import HeatMap\n",
    "\n",
    "% matplotlib inline\n",
    "import statsmodels.api as sm\n",
    "from statsmodels.compat import lzip\n",
    "from statsmodels.formula.api import ols\n",
    "from sklearn.ensemble import GradientBoostingRegressor\n",
    "\n",
    "\n",
    "def getAllFiles(path, file_name_type, start_year, start_month, end_year, end_month, dropped_columns):\n",
    "    li = []\n",
    "\n",
    "    for x in tqdm(list(os.walk(data_path))):\n",
    "\n",
    "        all_files = glob.glob(x[0] + \"/*\" + file_name_type + \".csv\")\n",
    "\n",
    "        for file_path in all_files:\n",
    "            if (inTimePeriod(file_path, start_year, start_month, end_year, end_month)):\n",
    "                df = pd.read_csv(file_path, index_col=None, header=0)\n",
    "                df.drop(columns=dropped_columns, inplace=True)\n",
    "                df['Year'] = df['Month'].apply(monthYearToYear)\n",
    "                df['Month'] = df['Month'].apply(monthYearToMonth)\n",
    "                df = df[df['Longitude'].notna()]\n",
    "                df = df[df['Latitude'].notna()]\n",
    "                li.append(df)\n",
    "\n",
    "    return pd.concat(li, axis=0, ignore_index=True)\n",
    "\n",
    "\n",
    "def inTimePeriod(file_path, start_year, start_month, end_year, end_month):\n",
    "    file_path_parts = file_path.split(\"\\\\\")\n",
    "    file_name = file_path_parts[len(file_path_parts) - 1]\n",
    "    year = int(file_name[:4])\n",
    "    month = int(file_name[5:7])\n",
    "    start_bool = (year >= start_year) or (year == start_year and month >= start_month)\n",
    "    end_bool = (year <= end_year) or (year == end_year and month <= end_month)\n",
    "    if (start_bool and end_bool):\n",
    "        return True\n",
    "    return False\n",
    "\n",
    "\n",
    "def monthYearToYear(monthYear):\n",
    "    return int(monthYear[:4])\n",
    "\n",
    "\n",
    "def monthYearToMonth(monthYear):\n",
    "    return int(monthYear[5:7])\n",
    "\n",
    "\n",
    "def MonthYearRegionDF(dataframe, month, year, region):\n",
    "    return dataframe[(dataframe['Month'] == month) & (dataframe['Year'] == year) &\n",
    "                     (dataframe['Falls within'] == region)]\n",
    "\n",
    "\n",
    "data_path = r\"C:\\Users\\20201935\\Documents\\Data Challenge 2\\Jan_2010_Oct_2021\"\n",
    "\n",
    "fullStreetFrame = getAllFiles(data_path, \"street\", 2012, 1, 2021, 10,\n",
    "                              ['Context', 'Location', 'Reported by', 'Last outcome category', 'LSOA code',\n",
    "                               'LSOA name'])\n",
    "\n",
    "test = MonthYearRegionDF(fullStreetFrame, 1, 2017, 'Avon and Somerset Constabulary')\n",
    "test2 = test[test['Crime type'] == 'Violence and sexual offences']\n",
    "test2.head(1)\n",
    "## Heatmaps\n",
    "hm_markers = folium.Map([51.4549741, -2.5979205], zoom_start=14)\n",
    "for index, row in tqdm(test2.iterrows()):\n",
    "    folium.CircleMarker([row['Latitude'], row['Longitude']],\n",
    "                        radius=3,\n",
    "                        popup=row['Crime type'],\n",
    "                        fill_color=\"#3db7e4\",  # divvy color\n",
    "                        ).add_to(hm_markers)\n",
    "\n",
    "heat_data = [[row['Latitude'], row['Longitude']] for index, row in test2.iterrows()]\n",
    "HeatMap(heat_data).add_to(hm_markers)\n",
    "hm_markers\n",
    "heat_data = [[row['Latitude'], row['Longitude']] for index, row in test2.iterrows()]\n",
    "\n",
    "hm = folium.Map([51.4549741, -2.5979205], zoom_start=14)\n",
    "\n",
    "# Plot it on the map\n",
    "HeatMap(heat_data).add_to(hm)\n",
    "\n",
    "hm\n",
    "\n"
   ]
  },
  {
   "cell_type": "code",
   "execution_count": null,
   "metadata": {},
   "outputs": [
    {
     "name": "stderr",
     "output_type": "stream",
     "text": [
      "100%|██████████| 132/132 [11:22<00:00,  5.17s/it]\n"
     ]
    }
   ],
   "source": [
    "data_path = r\"C:\\Users\\20202810\\OneDrive - TU Eindhoven\\Documents\\University\\Year 2\\JGB050 - Data Challenge 2\\Jan_2010_Oct_2021\"\n",
    "\n",
    "#trainstreetframe = getAllFiles(data_path, \"street\", 2012, 1, 2018, 10)\n",
    "#teststreetframe = getAllFiles(data_path, \"street\", 2018, 11, 2021, 10)\n",
    "fullStreetFrame = getAllFiles(data_path, \"street\", 2012, 1, 2021, 10, ['Context', 'Location', 'Reported by', 'Last outcome category', 'LSOA code', 'LSOA name'])"
   ]
  },
  {
   "cell_type": "code",
   "execution_count": null,
   "metadata": {},
   "outputs": [],
   "source": [
    "fullStreetFrame"
   ]
  },
  {
   "cell_type": "code",
   "execution_count": null,
   "metadata": {},
   "outputs": [],
   "source": [
    "fullStreetFrame['LSOA name'].isna().sum()"
   ]
  },
  {
   "cell_type": "code",
   "execution_count": null,
   "metadata": {},
   "outputs": [],
   "source": [
    "trainstreetframe.to_csv(\"train_street_data.csv\")\n",
    "trainstreetframe"
   ]
  },
  {
   "cell_type": "code",
   "execution_count": null,
   "metadata": {},
   "outputs": [],
   "source": [
    "teststreetframe.to_csv(\"test_street_data.csv\")\n",
    "teststreetframe"
   ]
  },
  {
   "cell_type": "code",
   "execution_count": null,
   "metadata": {},
   "outputs": [],
   "source": [
    "trainstreetframe.groupby(['Crime type']).size()"
   ]
  },
  {
   "cell_type": "code",
   "execution_count": null,
   "metadata": {
    "scrolled": true
   },
   "outputs": [],
   "source": [
    "trainstreetframe.groupby(['Reported by', 'Falls within']).size()"
   ]
  },
  {
   "cell_type": "code",
   "execution_count": null,
   "metadata": {},
   "outputs": [],
   "source": [
    "trainstreetframe = trainstreetframe.reset_index() \n",
    "\n",
    "for index, row in trainstreetframe.iterrows():\n",
    "    print(index)\n",
    "    if (row['Reported by'] != row['Falls within']):\n",
    "        print(row['Reported by'] + \" \" + row['Falls within'])\n",
    "        print(trainstreetframe.loc)\n",
    "        break"
   ]
  },
  {
   "cell_type": "code",
   "execution_count": null,
   "metadata": {},
   "outputs": [],
   "source": [
    "#testframe = getAllFiles(data_path, \"street\", 2020, 11, 2021, 10, ['Context', 'Location', 'Reported By', 'Last outcome category', 'LSOA code', 'LSOA name'])"
   ]
  },
  {
   "cell_type": "code",
   "execution_count": null,
   "metadata": {},
   "outputs": [],
   "source": [
    "testframe.groupby(['Reported by', 'Falls within']).size()"
   ]
  },
  {
   "cell_type": "code",
   "execution_count": null,
   "metadata": {},
   "outputs": [],
   "source": [
    "falls_within = testframe['Falls within'].unique()"
   ]
  },
  {
   "cell_type": "code",
   "execution_count": null,
   "metadata": {},
   "outputs": [],
   "source": [
    "falls_within[0]"
   ]
  },
  {
   "cell_type": "code",
   "execution_count": null,
   "metadata": {},
   "outputs": [],
   "source": []
  }
 ],
 "metadata": {
  "colab": {
   "authorship_tag": "ABX9TyPFAo65VOqc6Owz9auQQz9l",
   "collapsed_sections": [],
   "include_colab_link": true,
   "name": "Untitled0.ipynb",
   "provenance": []
  },
  "kernelspec": {
   "display_name": "Python 3",
   "language": "python",
   "name": "python3"
  },
  "language_info": {
   "codemirror_mode": {
    "name": "ipython",
    "version": 3
   },
   "file_extension": ".py",
   "mimetype": "text/x-python",
   "name": "python",
   "nbconvert_exporter": "python",
   "pygments_lexer": "ipython3",
   "version": "3.7.6"
  }
 },
 "nbformat": 4,
 "nbformat_minor": 1
}