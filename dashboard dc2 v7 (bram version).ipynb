{
 "cells": [
  {
   "cell_type": "code",
   "execution_count": null,
   "id": "5b2301cf",
   "metadata": {},
   "outputs": [],
   "source": [
    "import pandas as pd\n",
    "import numpy as np\n",
    "import glob\n",
    "import os\n",
    "from flask import Flask\n",
    "import sys"
   ]
  },
  {
   "cell_type": "code",
   "execution_count": null,
   "id": "152c2d67",
   "metadata": {},
   "outputs": [],
   "source": [
    "import plotly.express as px\n",
    "import plotly.graph_objects as go\n",
    "import plotly.figure_factory as ff\n",
    "\n",
    "from dash import Dash\n",
    "import dash\n",
    "from dash import html\n",
    "from dash import dcc\n",
    "from dash.dependencies import Input, Output"
   ]
  },
  {
   "cell_type": "code",
   "execution_count": null,
   "id": "c8ca8488",
   "metadata": {},
   "outputs": [],
   "source": [
    "import pandas as pd\n",
    "import numpy as np\n",
    "import matplotlib as mpl\n",
    "import matplotlib.pyplot as plt\n",
    "import math\n",
    "from datetime import timedelta\n",
    "import glob\n",
    "import os\n",
    "from tqdm import tqdm as tqdm\n",
    "import time\n",
    "import seaborn as sns\n",
    "\n",
    "%matplotlib inline\n",
    "import statsmodels.api as sm\n",
    "from statsmodels.compat import lzip\n",
    "from statsmodels.formula.api import ols\n",
    "from sklearn.ensemble import GradientBoostingRegressor\n",
    "from sklearn.preprocessing import OneHotEncoder\n",
    "from sklearn.linear_model import LinearRegression\n",
    "from sklearn.metrics import r2_score\n",
    "from sklearn.metrics import mean_squared_error\n",
    "from statsmodels.tsa.statespace.sarimax import SARIMAX\n",
    "from statsmodels.tsa.stattools import adfuller\n",
    "\n",
    "import warnings\n",
    "warnings.filterwarnings('ignore')\n",
    "\n",
    "from numpy import cumsum\n",
    "from datetime import datetime as dt"
   ]
  },
  {
   "cell_type": "markdown",
   "id": "b745b859",
   "metadata": {},
   "source": [
    "# Data import"
   ]
  },
  {
   "cell_type": "markdown",
   "id": "c4ba6680",
   "metadata": {},
   "source": [
    "## Iris method"
   ]
  },
  {
   "cell_type": "code",
   "execution_count": null,
   "id": "70739f16-838c-4bff-9b32-625c40bd40ba",
   "metadata": {},
   "outputs": [],
   "source": [
    "path = r'C:\\Users\\20201222\\Courses\\Y2\\Data challenge 2\\all_months'\n",
    "path2 = r'C:\\Users\\20203927\\Documents\\BDS\\Y2 - Q3\\DC2\\all_months_2012'"
   ]
  },
  {
   "cell_type": "code",
   "execution_count": null,
   "id": "a7636c55",
   "metadata": {},
   "outputs": [],
   "source": [
    "all_streets = glob.glob(path2 + \"/2012*street.csv\")\n",
    "df_streets = pd.concat(map(pd.read_csv, all_streets))\n",
    "df_streets"
   ]
  },
  {
   "cell_type": "code",
   "execution_count": null,
   "id": "c25c551d",
   "metadata": {},
   "outputs": [],
   "source": [
    "# all_outcomes = glob.glob(path + \"/2012*outcomes.csv\")\n",
    "# df_outcomes = pd.concat(map(pd.read_csv, all_outcomes))\n",
    "# df_outcomes"
   ]
  },
  {
   "cell_type": "code",
   "execution_count": null,
   "id": "daa48fea",
   "metadata": {},
   "outputs": [],
   "source": [
    "df_streets['MSOA name'] = df_streets['LSOA name'].str[:-4]\n",
    "df_streets"
   ]
  },
  {
   "cell_type": "code",
   "execution_count": null,
   "id": "a950a8ae",
   "metadata": {},
   "outputs": [],
   "source": [
    "#Dataframe\n",
    "##Percentages\n",
    "df_selected = df_streets.loc[df_streets['Reported by'] == 'Avon and Somerset Constabulary']\n",
    "df_grouped = df_selected.groupby(['Reported by', 'Crime type']).agg({'Month' : 'count'})\n",
    "df_grouped_new = df_grouped.groupby(level=0).apply(lambda x: 100 * x / float(x.sum()))\n",
    "df_grouped_new['Number of crimes'] = df_grouped['Month']\n",
    "df_grouped_new = df_grouped_new.squeeze()\n",
    "df_grouped_perc = df_grouped_new.rename(columns = {'Month' : 'Percentage crimes per police force'}).reset_index()\n",
    "df_grouped_perc = df_grouped_perc.round(2)"
   ]
  },
  {
   "cell_type": "markdown",
   "id": "7f83b1d3",
   "metadata": {},
   "source": [
    "## Stijn method"
   ]
  },
  {
   "cell_type": "code",
   "execution_count": null,
   "id": "7d6c7d07",
   "metadata": {},
   "outputs": [],
   "source": [
    "data_path = input(\"Enter the path to the data folder: \")\n",
    "# C:\\Users\\20203927\\Documents\\BDS\\Y2 - Q3\\DC2\\drive data"
   ]
  },
  {
   "cell_type": "code",
   "execution_count": null,
   "id": "359f8aef",
   "metadata": {},
   "outputs": [],
   "source": [
    "Train = pd.read_csv(str(data_path) + r\"\\\\covid_train.csv\")\n",
    "Train.drop(\"Unnamed: 0\", axis=1, inplace=True)\n",
    "\n",
    "#TestCovid = pd.read_csv(data_path + r\"\\\\covid_test.csv\")\n",
    "#TestCovid.drop(\"Unnamed: 0\", axis=1, inplace=True)\n",
    "\n",
    "#TestNoCovid = pd.read_csv(data_path + r\"\\\\no_covid_test.csv\")\n",
    "#TestNoCovid.drop(\"Unnamed: 0\", axis=1, inplace=True)\n",
    "\n",
    "#TrainWithNoCovid = pd.read_csv(data_path + r\"\\\\no_covid_train.csv\")\n",
    "#TrainWithNoCovid.drop(\"Unnamed: 0\", axis=1, inplace=True)\n",
    "\n",
    "best_models_covid = pd.read_csv(str(data_path) + r\"\\\\covid_best_models.csv\")"
   ]
  },
  {
   "cell_type": "markdown",
   "id": "c51ee32e",
   "metadata": {},
   "source": [
    "# Functionality"
   ]
  },
  {
   "cell_type": "markdown",
   "id": "9d8c3354",
   "metadata": {},
   "source": [
    "## Model functions"
   ]
  },
  {
   "cell_type": "code",
   "execution_count": null,
   "id": "21d9e62e",
   "metadata": {},
   "outputs": [],
   "source": [
    "def ARIMA_DATA(df, MSOA, category):\n",
    "    ###Gets the data of a specific MSOA and category to use in the ARIMA_OPTIMAL function\n",
    "    ###\n",
    "    \n",
    "    df = df[(df['MSOA'] == int(MSOA)) & (df['Crime type'] == category)]\n",
    "    df = df[['Date', 'count']]\n",
    "    df = df.set_index('Date')\n",
    "    \n",
    "    return df\n",
    "\n",
    "def ARIMA_STATIONARY(df):\n",
    "    ###Returns a stationary dataframe, created by ARIMA_DATA\n",
    "    ###\n",
    "    if adfuller(df['count'])[1] > 0.05:\n",
    "        df = df.diff().dropna()\n",
    "    \n",
    "    return df\n",
    "\n",
    "def ARIMA_OPTIMAL(stationary_data, MSOA, category):\n",
    "    ### Looks for the best ARMA(p,q) + constant model according to MSOA and crime type\n",
    "    ###\n",
    "    \n",
    "    order_aic_bic = list()\n",
    "\n",
    "    # Loop over AR order\n",
    "    for p in range(1,4):\n",
    "        # Loop over MA order\n",
    "        for q in range(1,4):\n",
    "            #for d in range(3):\n",
    "            try:\n",
    "            # Fit model\n",
    "                model = SARIMAX(stationary_data, order=(p,0,q), trend='c')\n",
    "                results = model.fit()\n",
    "                # Add order and scores to list\n",
    "                order_aic_bic.append((p, q, results.aic))\n",
    "            except:\n",
    "                continue\n",
    "            \n",
    "    order_df = pd.DataFrame(order_aic_bic, columns=['p','q','aic'])\n",
    "    optimum = order_df[order_df['aic'] == order_df['aic'].min()]\n",
    "    optimum.reset_index(inplace=True)\n",
    "    return optimum['p'][0], optimum['q'][0], optimum['aic'][0]\n",
    "\n",
    "def ARIMA_PREDICT(df, MSOA, category):\n",
    "    ###Forecasts via ARIMA approach\n",
    "    ###\n",
    "    \n",
    "    arima_data = ARIMA_DATA(df, MSOA, category)\n",
    "    stationary_data = ARIMA_STATIONARY(arima_data)\n",
    "    \n",
    "    p,q = ARIMA_OPTIMAL(stationary_data, MSOA, category)[0:2]\n",
    "    \n",
    "    model = SARIMAX(stationary_data, order=(p,0,q), trend='c')\n",
    "    results = model.fit()\n",
    "    forecast = results.get_prediction(start=-25)\n",
    "    mean_forecast = cumsum(forecast.predicted_mean) + stationary_data.iloc[-1,0]\n",
    "    confidence_intervals = cumsum(forecast.conf_int())\n",
    "    return arima_data, mean_forecast.to_frame(), confidence_intervals\n",
    "\n",
    "def ARIMA_SUMMARY(df, MSOA, category):\n",
    "    \n",
    "    stationary_data = ARIMA_STATIONARY(ARIMA_DATA(df, MSOA, category))\n",
    "    \n",
    "    p,q = ARIMA_OPTIMAL(stationary_data, MSOA, category)[0:2]\n",
    "    \n",
    "    model = SARIMAX(stationary_data, order=(p,0,q), trend='c')\n",
    "    results = model.fit()\n",
    "    \n",
    "    return results.summary()\n",
    "\n",
    "def model_predict(df, msoa, category):\n",
    "    data, mean_forecasts, confidence_intervals = ARIMA_PREDICT(df, msoa, category)\n",
    "    \n",
    "    lower_limits = confidence_intervals['lower count']\n",
    "    upper_limits = confidence_intervals['upper count']\n",
    "    \n",
    "    return data, mean_forecasts, confidence_intervals, lower_limits, upper_limits"
   ]
  },
  {
   "cell_type": "code",
   "execution_count": null,
   "id": "85698edc",
   "metadata": {},
   "outputs": [],
   "source": [
    "data, mean_forecasts, confidence_intervals, lower_limits, upper_limits = model_predict(Train, '001', 'Anti-social behaviour')\n",
    "    \n",
    "test = mean_forecasts.reset_index()\n",
    "test['Date'] = test['index'].dt.strftime('%Y-%m')\n",
    "test.drop(columns=['index'], inplace=True, axis=1)\n",
    "test.set_index('Date', inplace=True)\n",
    "test = test.rename(columns={0:'predicted_mean'})\n",
    "\n",
    "plot_data = pd.concat([data, test], axis=1)"
   ]
  },
  {
   "cell_type": "markdown",
   "id": "74abd12f",
   "metadata": {},
   "source": [
    "## Widgets"
   ]
  },
  {
   "cell_type": "code",
   "execution_count": null,
   "id": "e34fe406",
   "metadata": {},
   "outputs": [],
   "source": [
    "# getting lists\n",
    "\n",
    "police_list = df_streets['Reported by'].sort_values(ascending=True).unique().tolist() #police force list\n",
    "crime_list = df_streets['Crime type'].sort_values(ascending=True).unique().tolist() #crime type list\n",
    "msoa_list = best_models_covid['MSOA'].sort_values(ascending=True).unique().tolist() #MSOA list\n"
   ]
  },
  {
   "cell_type": "code",
   "execution_count": null,
   "id": "bd9c8bb4",
   "metadata": {},
   "outputs": [],
   "source": [
    "#Widgets\n",
    "police_dropdown = dcc.Dropdown(\n",
    "    id = 'police_dropdown',\n",
    "    options = police_list, \n",
    "    value = police_list[0],\n",
    "    multi = True,\n",
    ")\n",
    "\n",
    "msoa_dropdown = dcc.Dropdown(\n",
    "    id = 'msoa_dropdown',\n",
    "    options = msoa_list, \n",
    "    value = msoa_list[0],\n",
    ")\n",
    "\n",
    "crime_checklist = dcc.Checklist(\n",
    "    id = 'crime_checklist',\n",
    "    options = crime_list, \n",
    "    value = crime_list,\n",
    "    labelStyle = dict(display='block')\n",
    ")\n",
    "\n",
    "crime_radio_1 = dcc.RadioItems(\n",
    "    id = 'crime_radio_1',\n",
    "    options = crime_list, \n",
    "    value = crime_list[0],\n",
    "    labelStyle = dict(display='block')\n",
    ")\n",
    "\n",
    "crime_radio_2 = dcc.RadioItems(\n",
    "    id = 'crime_radio_2',\n",
    "    options = crime_list, \n",
    "    value = crime_list[0],\n",
    "    labelStyle = dict(display='block')\n",
    ")\n",
    "\n",
    "# select_button = html.Button(\"Select all\", id=\"select_button\")\n",
    "deselect_button = html.Button(\"Deselect all\", id=\"deselect_button\")\n",
    "\n",
    "value_type_radio = dcc.RadioItems(\n",
    "    id  = 'value_type_radio',\n",
    "    options = ['Percentages', 'Absolute values'], \n",
    "    value = 'Percentages',\n",
    ")\n",
    "\n",
    "p_value = html.Div(id='p_value', children=['P: {}'.format(None)])\n",
    "q_value = html.Div(id='q_value', children=['Q: {}'.format(None)])"
   ]
  },
  {
   "cell_type": "markdown",
   "id": "9953f53e",
   "metadata": {},
   "source": [
    "## Graphs"
   ]
  },
  {
   "cell_type": "code",
   "execution_count": null,
   "id": "3a90e4b3",
   "metadata": {},
   "outputs": [],
   "source": [
    "#Chart\n",
    "bar_chart = px.bar(data_frame=df_grouped_perc,\n",
    "                    x = 'Reported by',\n",
    "                    y = 'Percentage crimes per police force',\n",
    "                    color = 'Crime type',\n",
    "                    barmode='group',\n",
    "                    orientation = 'v',\n",
    "                    text_auto=True,\n",
    "                    hover_name=\"Reported by\", \n",
    "                    hover_data={\n",
    "                        'Reported by': False,\n",
    "                        'Number of crimes' : True\n",
    "                    },\n",
    "                   color_discrete_sequence=px.colors.qualitative.Safe,\n",
    "                   )\n",
    "\n",
    "#Graph\n",
    "bar_graph = dcc.Graph(\n",
    "        id='bar_graph',\n",
    "        figure=bar_chart,\n",
    "    )"
   ]
  },
  {
   "cell_type": "code",
   "execution_count": null,
   "id": "4a60dd24",
   "metadata": {},
   "outputs": [],
   "source": [
    "line_chart = px.line(data_frame = plot_data, \n",
    "                     x=plot_data.index, \n",
    "                     y=\"count\")\n",
    "\n",
    "line_graph = dcc.Graph(\n",
    "        id='line_graph',\n",
    "        figure=line_chart,\n",
    "    )"
   ]
  },
  {
   "cell_type": "markdown",
   "id": "5083945f",
   "metadata": {},
   "source": [
    "## Function"
   ]
  },
  {
   "cell_type": "code",
   "execution_count": null,
   "id": "c1041f46",
   "metadata": {},
   "outputs": [],
   "source": [
    "app = dash.Dash(__name__)\n",
    "\n",
    "@app.callback(\n",
    "    Output('bar_graph', 'figure'),\n",
    "    [Input(\"police_dropdown\", \"value\"), Input(\"crime_checklist\", \"value\"), Input(\"value_type_radio\", \"value\")]\n",
    ")\n",
    "\n",
    "def update_bar(police_force, crime_type, value_type):\n",
    "    ##update dataframes\n",
    "    df_selected = df_streets.loc[df_streets['Reported by'].isin(police_force) & \\\n",
    "    df_streets['Crime type'].isin(crime_type)]\n",
    "    df_grouped = df_selected.groupby(['Reported by', 'Crime type']).agg({'Month' : 'count'})\n",
    "    df_grouped_new = df_grouped.groupby(level=0).apply(lambda x: 100 * x / float(x.sum()))\n",
    "    df_grouped_new['Number of crimes'] = df_grouped['Month']\n",
    "    df_grouped_new = df_grouped_new.squeeze()\n",
    "    df_grouped_perc = df_grouped_new.rename(columns = {'Month' : 'Percentage crimes per police force'}).reset_index()\n",
    "    df_grouped_perc = df_grouped_perc.round(2)\n",
    "    \n",
    "    if value_type == 'Absolute values':\n",
    "        y_value = 'Number of crimes'\n",
    "    elif value_type == 'Percentages':\n",
    "        y_value = 'Percentage crimes per police force'\n",
    "    \n",
    "    ##update graphs\n",
    "    chart = px.bar(data_frame=df_grouped_perc,\n",
    "                    x = 'Reported by',\n",
    "                    y = y_value,\n",
    "                    color = 'Crime type',\n",
    "                    barmode='group',\n",
    "                    orientation = 'v',\n",
    "                    text_auto=True,\n",
    "                    hover_name=\"Reported by\", \n",
    "                    hover_data={\n",
    "                        'Reported by': False,\n",
    "                        'Percentage crimes per police force' : True,\n",
    "                        'Number of crimes' : True\n",
    "                    },\n",
    "                   color_discrete_sequence=px.colors.qualitative.Safe,\n",
    "                   )\n",
    "    return chart\n",
    "    \n",
    "@app.callback(\n",
    "    Output('crime_checklist', \"value\"),\n",
    "    [Input('deselect_button', \"n_clicks\")]\n",
    ")\n",
    "def deselect_crime_type(n_clicks):\n",
    "    if n_clicks is None:\n",
    "        raise dash.exceptions.PreventUpdate\n",
    "    else:\n",
    "        return []"
   ]
  },
  {
   "cell_type": "code",
   "execution_count": null,
   "id": "1713ca60",
   "metadata": {},
   "outputs": [],
   "source": [
    "@app.callback(\n",
    "    Output('line_graph', 'figure'),\n",
    "    [Input(\"msoa_dropdown\", \"value\"), Input(\"crime_radio_2\", \"value\")]\n",
    ")\n",
    "\n",
    "def update_chart(MSOA, crime):\n",
    "    data, mean_forecasts, confidence_intervals, lower_limits, upper_limits = model_predict(Train, MSOA, crime)\n",
    "    \n",
    "    test = mean_forecasts.reset_index()\n",
    "    test['Date'] = test['index'].dt.strftime('%Y-%m')\n",
    "    test.drop(columns=['index'], inplace=True, axis=1)\n",
    "    test.set_index('Date', inplace=True)\n",
    "    test = test.rename(columns={0:'predicted_mean'})\n",
    "\n",
    "    plot_data = pd.concat([data, test], axis=1)\n",
    "    \n",
    "    chart = px.line(plot_data, x=\"Date\", y=\"count\")"
   ]
  },
  {
   "cell_type": "markdown",
   "id": "c88a8c05",
   "metadata": {},
   "source": [
    "# Layout"
   ]
  },
  {
   "cell_type": "markdown",
   "id": "65e1591b",
   "metadata": {},
   "source": [
    "## Page layouts"
   ]
  },
  {
   "cell_type": "code",
   "execution_count": null,
   "id": "c904f291",
   "metadata": {
    "code_folding": []
   },
   "outputs": [],
   "source": [
    "#Create several widgets and graphs layout\n",
    "## Tab 1\n",
    "widgets1 = [html.H2('Widgets', style={'font-family' : 'Verdana'}),\n",
    "           html.H3('Location:', style={'font-family' : 'Verdana'}),\n",
    "               dcc.Markdown('Police force:', style={'font-family' : 'Verdana'}), police_dropdown,\n",
    "           html.Br(),\n",
    "           html.H3('Crime type:', style={'font-family' : 'Verdana'}), \\\n",
    "               deselect_button, crime_checklist,\n",
    "           html.Br(),\n",
    "           html.H3('Unit crimes:', style={'font-family' : 'Verdana'}), value_type_radio\n",
    "           ]\n",
    "graphs1 = [html.H2('Graph', style={'font-family' : 'Verdana'}),\n",
    "          bar_graph]\n",
    "\n",
    "## Tab 2\n",
    "widgets2 = [html.H2('Widgets', style={'font-family' : 'Verdana'}),\n",
    "           html.H3('Location:', style={'font-family' : 'Verdana'}),\n",
    "#                dcc.Markdown('Police force:', style={'font-family' : 'Verdana'}), police_dropdown,\n",
    "           html.Br(),\n",
    "           html.H3('Crime type:', style={'font-family' : 'Verdana'}), crime_radio_1,\n",
    "           ]\n",
    "graphs2 = [html.H2('Graph', style={'font-family' : 'Verdana'}),]"
   ]
  },
  {
   "cell_type": "code",
   "execution_count": null,
   "id": "f50265d7",
   "metadata": {},
   "outputs": [],
   "source": [
    "## Tab 3\n",
    "#widgets3 = [html.H2('Widgets', style={'font-family' : 'Verdana'}),\n",
    "#           html.H3('Location:', style={'font-family' : 'Verdana'}),\n",
    "#               dcc.Markdown('MSOA name: *not linked yet*', style={'font-family' : 'Verdana'}), msoa_dropdown,\n",
    "#           html.Br(),\n",
    "#           html.H3('Crime type:', style={'font-family' : 'Verdana'}), crime_radio,\n",
    "#           html.Br(),\n",
    "#            html.H3('ARIMA model:', style={'font-family' : 'Verdana'}), \\\n",
    "#               dcc.Markdown('*not linked yet*', style={'font-family' : 'Verdana'}), p_value, q_value,\n",
    "#           ]\n",
    "#graphs3 = [html.H2('Graph', style={'font-family' : 'Verdana'}),]        \n",
    "\n",
    "widgets3 = [html.H2('Widgets', style={'font-family' : 'Verdana'}),\n",
    "            \n",
    "            html.H3('Location:', style={'font-family' : 'Verdana'}), \n",
    "            dcc.Markdown('Select corresponding MSOA:', style={'font-family' : 'Verdana'}), msoa_dropdown,\n",
    "            html.Br(),\n",
    "            \n",
    "            html.H3('Crime type:', style={'font-family' : 'Verdana'}), crime_radio_2,\n",
    "            html.Br(),\n",
    "            \n",
    "            html.H3('ARIMA model:', style={'font-family' : 'Verdana'}), \n",
    "            dcc.Markdown('*not linked yet*', style={'font-family' : 'Verdana'}), p_value, q_value,\n",
    "           ]\n",
    "            \n",
    "        \n",
    "graphs3 = [html.H2('Graph', style={'font-family' : 'Verdana'}),\n",
    "          line_graph \n",
    "          ]"
   ]
  },
  {
   "cell_type": "markdown",
   "id": "e6ff3762",
   "metadata": {},
   "source": [
    "## Page layout options"
   ]
  },
  {
   "cell_type": "code",
   "execution_count": null,
   "id": "7a551cc4",
   "metadata": {},
   "outputs": [],
   "source": [
    "#Create column layouts\n",
    "widget_layout1 = html.Div(children = widgets1, style = {'width' : '20%', 'display' : 'inline-block'})\n",
    "graph_layout1 = html.Div(children = graphs1, style = {'width' : '78%', 'display' : 'inline-block', 'float' : 'right'})\n",
    "\n",
    "widget_layout2 = html.Div(children = widgets2, style = {'width' : '20%', 'display' : 'inline-block'})\n",
    "graph_layout2 = html.Div(children = graphs2, style = {'width' : '78%', 'display' : 'inline-block', 'float' : 'right'})\n",
    "\n",
    "widget_layout3 = html.Div(children = widgets3, style = {'width' : '20%', 'display' : 'inline-block'})\n",
    "graph_layout3 = html.Div(children = graphs3, style = {'width' : '78%', 'display' : 'inline-block', 'float' : 'right'})"
   ]
  },
  {
   "cell_type": "markdown",
   "id": "256f6a49",
   "metadata": {},
   "source": [
    "## Full layout"
   ]
  },
  {
   "cell_type": "code",
   "execution_count": null,
   "id": "3a00d39f",
   "metadata": {},
   "outputs": [],
   "source": [
    "#Create full layout\n",
    "full_layout = [html.H1(\"Title\", style={'textAlign': 'center', 'font-family' : 'Verdana'}),\n",
    "               dcc.Tabs(id=\"tabs\", value='tab_1', children=[\n",
    "                dcc.Tab(label = 'Analysis: Comparison', id='tab_1', value = 'tab_1', children = [widget_layout1, graph_layout1]), \n",
    "                dcc.Tab(label = 'Analysis: Hotspots', id='tab_2', children = [widget_layout2, graph_layout2]),\n",
    "                dcc.Tab(label = 'Model: ARIMA forecasting', id='tab_3', children = [widget_layout3, graph_layout3])\n",
    "               ]),\n",
    "            html.Div(id='tabs_content')\n",
    "            ]\n",
    "#Create layout\n",
    "app.layout = html.Div(children = full_layout)"
   ]
  },
  {
   "cell_type": "markdown",
   "id": "58baa5f4",
   "metadata": {},
   "source": [
    "# Execution "
   ]
  },
  {
   "cell_type": "code",
   "execution_count": null,
   "id": "9cde5b95",
   "metadata": {},
   "outputs": [],
   "source": [
    "if __name__ == \"__main__\":\n",
    "    app.run_server(debug=False)"
   ]
  },
  {
   "cell_type": "code",
   "execution_count": null,
   "id": "815a55db",
   "metadata": {},
   "outputs": [],
   "source": []
  },
  {
   "cell_type": "code",
   "execution_count": null,
   "id": "35751166",
   "metadata": {},
   "outputs": [],
   "source": []
  },
  {
   "cell_type": "code",
   "execution_count": null,
   "id": "01488448",
   "metadata": {},
   "outputs": [],
   "source": []
  },
  {
   "cell_type": "code",
   "execution_count": null,
   "id": "d667cc20",
   "metadata": {},
   "outputs": [],
   "source": []
  },
  {
   "cell_type": "code",
   "execution_count": null,
   "id": "bbb9347e",
   "metadata": {},
   "outputs": [],
   "source": []
  },
  {
   "cell_type": "code",
   "execution_count": null,
   "id": "401d7290",
   "metadata": {},
   "outputs": [],
   "source": []
  },
  {
   "cell_type": "code",
   "execution_count": null,
   "id": "263f55d8",
   "metadata": {},
   "outputs": [],
   "source": []
  },
  {
   "cell_type": "code",
   "execution_count": null,
   "id": "1175354e",
   "metadata": {},
   "outputs": [],
   "source": [
    "# Extra cell in case previous cell gets deleted\n",
    "# if __name__ == \"__main__\":\n",
    "#     app.run_server(debug=False)"
   ]
  },
  {
   "cell_type": "code",
   "execution_count": null,
   "id": "795cd07d",
   "metadata": {},
   "outputs": [],
   "source": [
    "#Choose font family\n",
    "# app.layout = html.Div(children=[\n",
    "#                        html.H1('Times New Roman', style={'font-family' : 'Times New Roman'}),\n",
    "#                        html.H1('Georgia', style={'font-family' : 'Georgia'}),\n",
    "#                        html.H1('Garamond', style={'font-family' : 'Garamond'}),\n",
    "#                        html.H1('Arial', style={'font-family' : 'Arial'}),\n",
    "#                        html.H1('Verdana', style={'font-family' : 'Verdana'}),\n",
    "#                        html.H1('Helvetica', style={'font-family' : 'Helvetica'}),\n",
    "#                        html.H1('Courier New', style={'font-family' : 'Courier New'}),\n",
    "#                        html.H1('Lucida Console', style={'font-family' : 'Lucida Console'}),\n",
    "#                        html.H1('Monaco', style={'font-family' : 'Monaco'}),\n",
    "    \n",
    "#                        html.P('Times New Roman', style={'font-family' : 'Times New Roman'}),\n",
    "#                        html.P('Georgia', style={'font-family' : 'Georgia'}),\n",
    "#                        html.P('Garamond', style={'font-family' : 'Garamond'}),\n",
    "#                        html.P('Arial', style={'font-family' : 'Arial'}),\n",
    "#                        html.P('Verdana', style={'font-family' : 'Verdana'}),\n",
    "#                        html.P('Helvetica', style={'font-family' : 'Helvetica'}),\n",
    "#                        html.P('Courier New', style={'font-family' : 'Courier New'}),\n",
    "#                        html.P('Lucida Console', style={'font-family' : 'Lucida Console'}),\n",
    "#                        html.P('Monaco', style={'font-family' : 'Monaco'}),\n",
    "#                         ])\n",
    "\n",
    "# if __name__ == \"__main__\":\n",
    "#     app.run_server(debug=False)"
   ]
  }
 ],
 "metadata": {
  "kernelspec": {
   "display_name": "Python 3 (ipykernel)",
   "language": "python",
   "name": "python3"
  },
  "language_info": {
   "codemirror_mode": {
    "name": "ipython",
    "version": 3
   },
   "file_extension": ".py",
   "mimetype": "text/x-python",
   "name": "python",
   "nbconvert_exporter": "python",
   "pygments_lexer": "ipython3",
   "version": "3.7.6"
  },
  "toc": {
   "base_numbering": 1,
   "nav_menu": {},
   "number_sections": false,
   "sideBar": true,
   "skip_h1_title": false,
   "title_cell": "Table of Contents",
   "title_sidebar": "Contents",
   "toc_cell": false,
   "toc_position": {},
   "toc_section_display": true,
   "toc_window_display": false
  }
 },
 "nbformat": 4,
 "nbformat_minor": 5
}
